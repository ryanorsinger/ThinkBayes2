{
 "cells": [
  {
   "cell_type": "markdown",
   "id": "0fb986c8",
   "metadata": {},
   "source": [
    "# Binomial Distribution\n",
    "\n",
    "$$\\binom{n}{k} p^k (1-p)^{n-k}$$"
   ]
  },
  {
   "cell_type": "markdown",
   "id": "3e79d0ed",
   "metadata": {},
   "source": [
    "> When spun on edge 250 times, a Belgian one-euro coin came up heads 140 times and tails 110. `It looks very suspicious to me,’ said Barry Blight, a statistics lecturer at the London School of Economics. `If the coin were unbiased, the chance of getting a result as extreme as that would be less than 7%.’\n",
    "\n",
    "“But [MacKay asks] do these data give evidence that the coin is biased rather than fair?”\n",
    "\n",
    "$\\binom{n}{k}$ is the binomial coefficient - \"n choose k\""
   ]
  },
  {
   "cell_type": "code",
   "execution_count": 1,
   "id": "29f6f2fb",
   "metadata": {},
   "outputs": [],
   "source": [
    "from empiricaldist import Pmf\n",
    "from scipy.stats import binom\n",
    "import numpy as np\n",
    "import pandas as pd\n",
    "import matplotlib.pyplot as plt\n",
    "import seaborn as sns"
   ]
  },
  {
   "cell_type": "code",
   "execution_count": 2,
   "id": "e95b0757",
   "metadata": {},
   "outputs": [
    {
     "data": {
      "text/plain": [
       "0.5000000000000002"
      ]
     },
     "execution_count": 2,
     "metadata": {},
     "output_type": "execute_result"
    }
   ],
   "source": [
    "# If we flip one coin n=2 times and p(heads) is .5, what's the probability of getting k=1 heads?\n",
    "n = 2\n",
    "p = 0.5\n",
    "k = 1\n",
    "binom.pmf(k, n, p)"
   ]
  },
  {
   "cell_type": "code",
   "execution_count": 3,
   "id": "773d0488",
   "metadata": {},
   "outputs": [
    {
     "data": {
      "text/plain": [
       "array([0.25, 0.5 , 0.25])"
      ]
     },
     "execution_count": 3,
     "metadata": {},
     "output_type": "execute_result"
    }
   ],
   "source": [
    "# Set up an array of k values\n",
    "ks = np.arange(n + 1)\n",
    "\n",
    "# setup probabilities\n",
    "ps = binom.pmf(ks, n, p)\n",
    "\n",
    "# On 2 flips\n",
    "# p(0 heads), p(1 head), p(2 heads)\n",
    "ps"
   ]
  },
  {
   "cell_type": "code",
   "execution_count": 4,
   "id": "a1561697",
   "metadata": {},
   "outputs": [
    {
     "data": {
      "text/html": [
       "<div>\n",
       "<style scoped>\n",
       "    .dataframe tbody tr th:only-of-type {\n",
       "        vertical-align: middle;\n",
       "    }\n",
       "\n",
       "    .dataframe tbody tr th {\n",
       "        vertical-align: top;\n",
       "    }\n",
       "\n",
       "    .dataframe thead th {\n",
       "        text-align: right;\n",
       "    }\n",
       "</style>\n",
       "<table border=\"1\" class=\"dataframe\">\n",
       "  <thead>\n",
       "    <tr style=\"text-align: right;\">\n",
       "      <th></th>\n",
       "      <th>probs</th>\n",
       "    </tr>\n",
       "  </thead>\n",
       "  <tbody>\n",
       "    <tr>\n",
       "      <th>0</th>\n",
       "      <td>0.25</td>\n",
       "    </tr>\n",
       "    <tr>\n",
       "      <th>1</th>\n",
       "      <td>0.50</td>\n",
       "    </tr>\n",
       "    <tr>\n",
       "      <th>2</th>\n",
       "      <td>0.25</td>\n",
       "    </tr>\n",
       "  </tbody>\n",
       "</table>\n",
       "</div>"
      ],
      "text/plain": [
       "0    0.25\n",
       "1    0.50\n",
       "2    0.25\n",
       "Name: , dtype: float64"
      ]
     },
     "execution_count": 4,
     "metadata": {},
     "output_type": "execute_result"
    }
   ],
   "source": [
    "pmf_k = Pmf(ps, ks)\n",
    "pmf_k"
   ]
  },
  {
   "cell_type": "code",
   "execution_count": 5,
   "id": "a53883cd",
   "metadata": {},
   "outputs": [],
   "source": [
    "# This function computes the binomial distribution\n",
    "# for given values of n and p \n",
    "# and returns a Pmf that represents the result.\n",
    "\n",
    "def make_binomial(n, p):\n",
    "    \"\"\"Make a binomial Pmf\"\"\"\n",
    "    ks = np.arange(n + 1)\n",
    "    ps = binom.pmf(ks, n, p)\n",
    "    return Pmf(ps, ks)"
   ]
  },
  {
   "cell_type": "code",
   "execution_count": 6,
   "id": "4f52db1e",
   "metadata": {},
   "outputs": [
    {
     "data": {
      "text/html": [
       "<div>\n",
       "<style scoped>\n",
       "    .dataframe tbody tr th:only-of-type {\n",
       "        vertical-align: middle;\n",
       "    }\n",
       "\n",
       "    .dataframe tbody tr th {\n",
       "        vertical-align: top;\n",
       "    }\n",
       "\n",
       "    .dataframe thead th {\n",
       "        text-align: right;\n",
       "    }\n",
       "</style>\n",
       "<table border=\"1\" class=\"dataframe\">\n",
       "  <thead>\n",
       "    <tr style=\"text-align: right;\">\n",
       "      <th></th>\n",
       "      <th>probs</th>\n",
       "    </tr>\n",
       "  </thead>\n",
       "  <tbody>\n",
       "    <tr>\n",
       "      <th>0</th>\n",
       "      <td>5.527148e-76</td>\n",
       "    </tr>\n",
       "    <tr>\n",
       "      <th>1</th>\n",
       "      <td>1.381787e-73</td>\n",
       "    </tr>\n",
       "    <tr>\n",
       "      <th>2</th>\n",
       "      <td>1.720325e-71</td>\n",
       "    </tr>\n",
       "  </tbody>\n",
       "</table>\n",
       "</div>"
      ],
      "text/plain": [
       "0    5.527148e-76\n",
       "1    1.381787e-73\n",
       "2    1.720325e-71\n",
       "Name: , dtype: float64"
      ]
     },
     "execution_count": 6,
     "metadata": {},
     "output_type": "execute_result"
    }
   ],
   "source": [
    "pmf_k = make_binomial(n=250, p=0.5)\n",
    "pmf_k.head()"
   ]
  },
  {
   "cell_type": "code",
   "execution_count": 7,
   "id": "ac3a76ef",
   "metadata": {},
   "outputs": [
    {
     "data": {
      "image/png": "[encoded data removed]",
      "text/plain": [
       "<Figure size 432x288 with 1 Axes>"
      ]
     },
     "metadata": {
      "needs_background": "light"
     },
     "output_type": "display_data"
    }
   ],
   "source": [
    "plt.title(\"Binomial Distribution\")\n",
    "plt.ylabel(\"PMF\")\n",
    "plt.xlabel(\"Number of heads (k)\")\n",
    "plt.plot(pmf_k, label=\"n=250, p=0.5\");\n",
    "plt.legend();"
   ]
  },
  {
   "cell_type": "code",
   "execution_count": 8,
   "id": "23907ad3",
   "metadata": {},
   "outputs": [
    {
     "data": {
      "text/plain": [
       "125"
      ]
     },
     "execution_count": 8,
     "metadata": {},
     "output_type": "execute_result"
    }
   ],
   "source": [
    "pmf_k.max_prob()"
   ]
  },
  {
   "cell_type": "code",
   "execution_count": 9,
   "id": "a6908b61",
   "metadata": {},
   "outputs": [
    {
     "data": {
      "text/plain": [
       "0.0504122131473097"
      ]
     },
     "execution_count": 9,
     "metadata": {},
     "output_type": "execute_result"
    }
   ],
   "source": [
    "# p(exactkly 125 heads)\n",
    "# pmf_k[125] different api, same results\n",
    "pmf_k(125)"
   ]
  },
  {
   "cell_type": "code",
   "execution_count": 10,
   "id": "18e4cdbe",
   "metadata": {},
   "outputs": [
    {
     "data": {
      "text/plain": [
       "0.008357181724918204"
      ]
     },
     "execution_count": 10,
     "metadata": {},
     "output_type": "execute_result"
    }
   ],
   "source": [
    "pmf_k(140)"
   ]
  },
  {
   "cell_type": "code",
   "execution_count": 11,
   "id": "f93dbfdd",
   "metadata": {},
   "outputs": [
    {
     "data": {
      "text/plain": [
       "0.008357181724918204"
      ]
     },
     "execution_count": 11,
     "metadata": {},
     "output_type": "execute_result"
    }
   ],
   "source": [
    "# Out of 250 flips\n",
    "# If we have a fair coin, what are the odds of flipping 140 heads?\n",
    "n = 250\n",
    "p = 0.5\n",
    "k = 140\n",
    "binom.pmf(k, n, p)"
   ]
  },
  {
   "cell_type": "markdown",
   "id": "c364ed2f",
   "metadata": {},
   "source": [
    "> In the article MacKay quotes, the statistician says, “If the coin were unbiased the chance of getting a result as extreme as that would be less than 7%.”\n",
    "\n"
   ]
  },
  {
   "cell_type": "code",
   "execution_count": 12,
   "id": "bb6d55d0",
   "metadata": {},
   "outputs": [],
   "source": [
    "# We'll use the binomial distribution to check MacKay's math. \n",
    "# The following function takes a PMF and computes the total probability of quantities greater than or equal to threshold.\n",
    "\n",
    "def prob_ge(pmf, threshold):\n",
    "    \"\"\"Probability of quantities greater than threshold\"\"\"\n",
    "    ge = pmf.qs >= threshold\n",
    "    total = pmf[ge].sum()\n",
    "    return total"
   ]
  },
  {
   "cell_type": "code",
   "execution_count": 13,
   "id": "d58c7fa5",
   "metadata": {},
   "outputs": [
    {
     "data": {
      "image/png": "[encoded data removed]",
      "text/plain": [
       "<Figure size 432x288 with 1 Axes>"
      ]
     },
     "metadata": {
      "needs_background": "light"
     },
     "output_type": "display_data"
    }
   ],
   "source": [
    "def fill_below(pmf):\n",
    "    qs = pmf.index\n",
    "    ps = pmf.values\n",
    "    plt.fill_between(qs, ps, 0, color='C5', alpha=0.4)\n",
    "\n",
    "qs = pmf_k.index\n",
    "\n",
    "\n",
    "fill_below(pmf_k[qs>=140])\n",
    "fill_below(pmf_k[qs<=110])\n",
    "\n",
    "pmf_k.plot(label='n=250, p=0.5')\n",
    "\n",
    "plt.title(\"Binomial Distribution\");\n",
    "plt.ylabel(\"PMF\")\n",
    "plt.xlabel(\"Number of heads (k)\")\n",
    "plt.legend();"
   ]
  },
  {
   "cell_type": "code",
   "execution_count": 14,
   "id": "6e1b9ea9",
   "metadata": {},
   "outputs": [
    {
     "data": {
      "text/plain": [
       "0.03321057562002169"
      ]
     },
     "execution_count": 14,
     "metadata": {},
     "output_type": "execute_result"
    }
   ],
   "source": [
    "prob_ge(pmf_k, 140)"
   ]
  },
  {
   "cell_type": "code",
   "execution_count": 15,
   "id": "10c176a5",
   "metadata": {},
   "outputs": [
    {
     "data": {
      "text/plain": [
       "0.03321057562002169"
      ]
     },
     "execution_count": 15,
     "metadata": {},
     "output_type": "execute_result"
    }
   ],
   "source": [
    "pmf_k.prob_ge(140)"
   ]
  },
  {
   "cell_type": "markdown",
   "id": "7bd10c96",
   "metadata": {},
   "source": [
    "# Bayesian Estimation\n",
    "> Any given coin has some probability of landing heads up when spun on edge; I’ll call this probability x. It seems reasonable to believe that x depends on physical characteristics of the coin, like the distribution of weight. If a coin is perfectly balanced, we expect x to be close to 50%, but for a lopsided coin, x might be substantially different. We can use Bayes’s theorem and the observed data to estimate x.\n",
    "\n",
    "**Estimate unknown probabilities!**"
   ]
  },
  {
   "cell_type": "code",
   "execution_count": 16,
   "id": "65bac8e9",
   "metadata": {},
   "outputs": [
    {
     "data": {
      "text/html": [
       "<div>\n",
       "<style scoped>\n",
       "    .dataframe tbody tr th:only-of-type {\n",
       "        vertical-align: middle;\n",
       "    }\n",
       "\n",
       "    .dataframe tbody tr th {\n",
       "        vertical-align: top;\n",
       "    }\n",
       "\n",
       "    .dataframe thead th {\n",
       "        text-align: right;\n",
       "    }\n",
       "</style>\n",
       "<table border=\"1\" class=\"dataframe\">\n",
       "  <thead>\n",
       "    <tr style=\"text-align: right;\">\n",
       "      <th></th>\n",
       "      <th>probs</th>\n",
       "    </tr>\n",
       "  </thead>\n",
       "  <tbody>\n",
       "    <tr>\n",
       "      <th>0.00</th>\n",
       "      <td>1</td>\n",
       "    </tr>\n",
       "    <tr>\n",
       "      <th>0.01</th>\n",
       "      <td>1</td>\n",
       "    </tr>\n",
       "    <tr>\n",
       "      <th>0.02</th>\n",
       "      <td>1</td>\n",
       "    </tr>\n",
       "  </tbody>\n",
       "</table>\n",
       "</div>"
      ],
      "text/plain": [
       "0.00    1\n",
       "0.01    1\n",
       "0.02    1\n",
       "Name: , dtype: int64"
      ]
     },
     "execution_count": 16,
     "metadata": {},
     "output_type": "execute_result"
    }
   ],
   "source": [
    "# For simplicity we start with a uniform prior (dig into this later)\n",
    "# Uniform prior is rectangular, assuming all values of x are equally likely\n",
    "# Here's an implementation of a uniform prior\n",
    "\n",
    "# equal likelihoods of flipping 0% to 100% heads\n",
    "hypos = np.linspace(0, 1, 101)\n",
    "prior = Pmf(1, hypos)\n",
    "prior.head()"
   ]
  },
  {
   "cell_type": "code",
   "execution_count": 17,
   "id": "e7792d4c",
   "metadata": {},
   "outputs": [],
   "source": [
    "likelihood_heads = hypos\n",
    "likelihood_tails = 1 - hypos"
   ]
  },
  {
   "cell_type": "code",
   "execution_count": 18,
   "id": "e62a92ed",
   "metadata": {},
   "outputs": [],
   "source": [
    "likelihood = {\n",
    "    \"H\": likelihood_heads,\n",
    "    \"T\": likelihood_tails\n",
    "}"
   ]
  },
  {
   "cell_type": "code",
   "execution_count": 19,
   "id": "71184904",
   "metadata": {},
   "outputs": [
    {
     "data": {
      "text/plain": [
       "250"
      ]
     },
     "execution_count": 19,
     "metadata": {},
     "output_type": "execute_result"
    }
   ],
   "source": [
    "# Let's represent the data as a string\n",
    "dataset = \"H\" * 140 + \"T\" * 110\n",
    "dataset[0:5]\n",
    "len(dataset)"
   ]
  },
  {
   "cell_type": "code",
   "execution_count": 20,
   "id": "21b754b4",
   "metadata": {},
   "outputs": [],
   "source": [
    "# The following function does the update.\n",
    "\n",
    "def update_euro(pmf, dataset):\n",
    "    \"\"\"Update pmf with a given sequence of H and T.\"\"\"\n",
    "    for data in dataset:\n",
    "        pmf *= likelihood[data]\n",
    "\n",
    "    pmf.normalize()"
   ]
  },
  {
   "cell_type": "code",
   "execution_count": 21,
   "id": "33be8f57",
   "metadata": {},
   "outputs": [],
   "source": [
    "posterior = prior.copy()"
   ]
  },
  {
   "cell_type": "code",
   "execution_count": 22,
   "id": "ddfa94f8",
   "metadata": {},
   "outputs": [],
   "source": [
    "update_euro(posterior, dataset)"
   ]
  },
  {
   "cell_type": "code",
   "execution_count": 23,
   "id": "8e4fb33f",
   "metadata": {},
   "outputs": [
    {
     "data": {
      "image/png": "[encoded data removed]",
      "text/plain": [
       "<Figure size 432x288 with 1 Axes>"
      ]
     },
     "metadata": {
      "needs_background": "light"
     },
     "output_type": "display_data"
    }
   ],
   "source": [
    "posterior.plot(label=\"140 heads out of 250\", color=\"C4\")\n",
    "plt.xlabel(\"Proportion of heads (x)\")\n",
    "plt.ylabel(\"Probability\")\n",
    "plt.title(\"Posterior distribution of x\")\n",
    "plt.show();"
   ]
  },
  {
   "cell_type": "code",
   "execution_count": 24,
   "id": "94ee24c0",
   "metadata": {
    "scrolled": true
   },
   "outputs": [
    {
     "data": {
      "text/plain": [
       "0.56"
      ]
     },
     "execution_count": 24,
     "metadata": {},
     "output_type": "execute_result"
    }
   ],
   "source": [
    "# If we get 140 heads out of 250\n",
    "# we can estimate that the p(heads) is 56%\n",
    "# (and assume uniform uncertainty)\n",
    "# The \n",
    "posterior.max_prob()"
   ]
  },
  {
   "cell_type": "markdown",
   "id": "08b17a79",
   "metadata": {},
   "source": [
    "## Triangle Prior\n",
    "\n",
    "![triangle man](triangleman.jpeg)"
   ]
  },
  {
   "cell_type": "code",
   "execution_count": 25,
   "id": "68a87fa3",
   "metadata": {},
   "outputs": [
    {
     "data": {
      "text/plain": [
       "101"
      ]
     },
     "execution_count": 25,
     "metadata": {},
     "output_type": "execute_result"
    }
   ],
   "source": [
    "# So far we’ve been using a uniform prior:\n",
    "\n",
    "uniform = Pmf(1, hypos, name='uniform')\n",
    "uniform.normalize()"
   ]
  },
  {
   "cell_type": "markdown",
   "id": "e42c7f3a",
   "metadata": {},
   "source": [
    "It might be more reasonable to choose a prior that gives higher probability to values of x near 0.5 and lower probability to extreme values."
   ]
  },
  {
   "cell_type": "code",
   "execution_count": 26,
   "id": "0eee6e9a",
   "metadata": {},
   "outputs": [
    {
     "data": {
      "text/plain": [
       "2500"
      ]
     },
     "execution_count": 26,
     "metadata": {},
     "output_type": "execute_result"
    }
   ],
   "source": [
    "ramp_up = np.arange(50) # np.arange(0, 50, 1)\n",
    "ramp_down = np.arange(50, -1, -1)\n",
    "a = np.append(ramp_up, ramp_down)\n",
    "\n",
    "triangle = Pmf(a, hypos, name=\"triangle\")\n",
    "triangle.normalize()"
   ]
  },
  {
   "cell_type": "code",
   "execution_count": 27,
   "id": "687731e6",
   "metadata": {},
   "outputs": [
    {
     "data": {
      "text/plain": [
       "Text(0, 0.5, 'Probability of heads')"
      ]
     },
     "execution_count": 27,
     "metadata": {},
     "output_type": "execute_result"
    },
    {
     "data": {
      "image/png": "[encoded data removed]",
      "text/plain": [
       "<Figure size 432x288 with 1 Axes>"
      ]
     },
     "metadata": {
      "needs_background": "light"
     },
     "output_type": "display_data"
    }
   ],
   "source": [
    "uniform.plot();\n",
    "triangle.plot();\n",
    "plt.title(\"Uniform and triangle prior distributions\");\n",
    "plt.xlabel(\"Proportion of heads (x)\")\n",
    "plt.ylabel(\"Probability of heads\")"
   ]
  },
  {
   "cell_type": "code",
   "execution_count": 28,
   "id": "7bdc9ef4",
   "metadata": {},
   "outputs": [],
   "source": [
    "update_euro(uniform, dataset)\n",
    "update_euro(triangle, dataset)"
   ]
  },
  {
   "cell_type": "code",
   "execution_count": 29,
   "id": "ede4af11",
   "metadata": {},
   "outputs": [
    {
     "data": {
      "image/png": "[encoded data removed]",
      "text/plain": [
       "<Figure size 432x288 with 1 Axes>"
      ]
     },
     "metadata": {
      "needs_background": "light"
     },
     "output_type": "display_data"
    }
   ],
   "source": [
    "# Plot the updated priors\n",
    "# The differences between the posterior distributions are barely visible, and so small they would hardly matter in practice.\n",
    "\n",
    "uniform.plot()\n",
    "triangle.plot()\n",
    "\n",
    "plt.xlabel(\"Proportion of heads (x)\")\n",
    "plt.ylabel(\"Probability of heads\")\n",
    "plt.title(\"Posterior Distributions\");"
   ]
  },
  {
   "cell_type": "markdown",
   "id": "06f77e74",
   "metadata": {},
   "source": [
    "The differences between the posterior distributions are barely visible, and so small they would hardly matter in practice.\n",
    "\n",
    "And that’s good news. To see why, imagine two people who disagree angrily about which prior is better, uniform or triangle. Each of them has reasons for their preference, but neither of them can persuade the other to change their mind.\n",
    "\n",
    "But suppose they agree to use the data to update their beliefs. When they compare their posterior distributions, they find that there is almost nothing left to argue about.\n",
    "\n",
    "This is an example of swamping the priors: with enough data, people who start with different priors will tend to converge on the same posterior distribution.\n",
    "\n",
    "**Ultimately, updating our beliefs with data matters more than our priors**\n",
    "\n",
    "(this sounds logical and easy, but is conceptually chalenging, as we'll see shortly)"
   ]
  },
  {
   "cell_type": "markdown",
   "id": "78d6b8ce",
   "metadata": {},
   "source": [
    "$$\\binom{n}{k} p^k (1-p)^{n-k}$$"
   ]
  },
  {
   "cell_type": "code",
   "execution_count": 30,
   "id": "e084e93c",
   "metadata": {},
   "outputs": [],
   "source": [
    "from scipy.stats import binom\n",
    "\n",
    "def update_binomial(pmf, data):\n",
    "    \"\"\"Update pmf using the binomial distribution.\"\"\"\n",
    "    k, n = data\n",
    "    xs = pmf.qs\n",
    "    likelihood = binom.pmf(k, n, xs)\n",
    "    pmf *= likelihood\n",
    "    pmf.normalize()"
   ]
  },
  {
   "cell_type": "code",
   "execution_count": 31,
   "id": "e28c2529",
   "metadata": {},
   "outputs": [],
   "source": [
    "# The data are represented with a tuple of values for k and n, rather than a long string of outcomes. Here’s the update.\n",
    "uniform2 = Pmf(1, hypos, name=\"uniform2\")\n",
    "data = 140, 250\n",
    "update_binomial(uniform2, data)"
   ]
  },
  {
   "cell_type": "code",
   "execution_count": 32,
   "id": "4a229473",
   "metadata": {},
   "outputs": [
    {
     "data": {
      "text/plain": [
       "True"
      ]
     },
     "execution_count": 32,
     "metadata": {},
     "output_type": "execute_result"
    }
   ],
   "source": [
    "np.allclose(uniform, uniform2)"
   ]
  },
  {
   "cell_type": "markdown",
   "id": "1794da01",
   "metadata": {},
   "source": [
    "The 101 Bowls and Euro problem are very similar. \n",
    "- The prior distributions are the same. \n",
    "- The prior likelihoods are the same\n",
    "- And w/ the same data, the results would be the same\n",
    "- But there's more to it\n",
    "\n",
    "The 101 Bowls problem contained a uniform distribution in the setup, so that make sense.\n",
    "\n",
    "With the Euro problem, the choice of priors is subjective.\n",
    "\n",
    "And because the priors are subjective, the posteriors are subjective, too. And some people find that problematic.\n",
    "\n",
    "In the 101 Bowls problem, we choose the bowl randomly, so it is uncontroversial to compute the probability of choosing each bowl. In the Euro problem, the proportion of heads is a physical property of a given coin. Under some interpretations of probability, that’s a problem because physical properties are not considered random.\n",
    "\n",
    "Under the Bayesian interpretation of probability, it is meaningful and useful to treat physical quantities as if they were random and compute probabilities about them.\n",
    "\n",
    "In the Euro problem, the prior distribution represents what we believe about coins in general and the posterior distribution represents what we believe about a particular coin after seeing the data. So we can use the posterior distribution to compute probabilities about the coin and its proportion of heads.\n",
    "\n",
    "The subjectivity of the prior and the interpretation of the posterior are key differences between using Bayes’s Theorem and doing Bayesian statistics.\n",
    "\n"
   ]
  },
  {
   "cell_type": "markdown",
   "id": "a40dfa8e",
   "metadata": {},
   "source": [
    "## Exercise\n",
    "\n",
    "In Major League Baseball, most players have a batting average between .200 and .330, which means that their probability of getting a hit is between 0.2 and 0.33.\n",
    "\n",
    "Suppose a player appearing in their first game gets 3 hits out of 3 attempts. What is the posterior distribution for their probability of getting a hit?\n",
    "\n",
    "For this exercise, I’ll construct the prior distribution by starting with a uniform distribution and updating it with imaginary data until it has a shape that reflects my background knowledge of batting averages."
   ]
  },
  {
   "cell_type": "code",
   "execution_count": 33,
   "id": "c6afa864",
   "metadata": {},
   "outputs": [],
   "source": [
    "# Here's the uniform prior\n",
    "# I imagine the range of .1 to .4 is to create a bounds for the .2 to .33 likelihoods\n",
    "hypos = np.linspace(0.1, 0.4, 101)\n",
    "prior = Pmf(1, hypos)"
   ]
  },
  {
   "cell_type": "code",
   "execution_count": 34,
   "id": "d4a01493",
   "metadata": {},
   "outputs": [],
   "source": [
    "likelihood = {\n",
    "    \"Y\": hypos,\n",
    "    \"N\": 1 - hypos\n",
    "}"
   ]
  },
  {
   "cell_type": "code",
   "execution_count": 35,
   "id": "4d779def",
   "metadata": {},
   "outputs": [],
   "source": [
    "# Here’s a dataset that yields a reasonable prior distribution.\n",
    "# I'm not in love with this approach (yet)\n",
    "# This sets up someone batting 0.25\n",
    "# I'm not sure where this batting 0.25 came from since it's not in the problem setup\n",
    "dataset = \"Y\" * 25 + \"N\" * 75"
   ]
  },
  {
   "cell_type": "code",
   "execution_count": 36,
   "id": "0dbf0408",
   "metadata": {},
   "outputs": [
    {
     "data": {
      "text/plain": [
       "1.3596964206970507e-23"
      ]
     },
     "execution_count": 36,
     "metadata": {},
     "output_type": "execute_result"
    }
   ],
   "source": [
    "# Update the uniform prior with the data\n",
    "for data in dataset:\n",
    "    prior *= likelihood[data]\n",
    "\n",
    "prior.normalize()"
   ]
  },
  {
   "cell_type": "code",
   "execution_count": 37,
   "id": "5f8a2b86",
   "metadata": {},
   "outputs": [
    {
     "data": {
      "image/png": "[encoded data removed]",
      "text/plain": [
       "<Figure size 432x288 with 1 Axes>"
      ]
     },
     "metadata": {
      "needs_background": "light"
     },
     "output_type": "display_data"
    }
   ],
   "source": [
    "prior.plot(label='prior')\n",
    "plt.title(\"PMF of the 'imaginary' data\")\n",
    "plt.xlabel(\"Probability of getting a hit\")\n",
    "plt.ylabel(\"PMF\")\n",
    "plt.legend();"
   ]
  },
  {
   "cell_type": "markdown",
   "id": "a3e8f1dc",
   "metadata": {},
   "source": [
    "*Thought* Since we \"proved\" that priors don't matter as much as the data we use to update our beliefs, then this batting 0.25 assumption makes a bit more sense.\n",
    "\n",
    "This does feel arbitrary, however."
   ]
  },
  {
   "cell_type": "code",
   "execution_count": 38,
   "id": "db201cb7",
   "metadata": {},
   "outputs": [
    {
     "data": {
      "text/plain": [
       "0.017944179687707326"
      ]
     },
     "execution_count": 38,
     "metadata": {},
     "output_type": "execute_result"
    }
   ],
   "source": [
    "# Now update the distribution with the data and plot the posterior. What is the most likely quantity in the posterior distribution?\n",
    "\n",
    "# Solution\n",
    "\n",
    "posterior = prior.copy()\n",
    "\n",
    "for data in 'YYY':\n",
    "    posterior *= likelihood[data]\n",
    "\n",
    "posterior.normalize()"
   ]
  },
  {
   "cell_type": "code",
   "execution_count": 39,
   "id": "f4d5e736",
   "metadata": {},
   "outputs": [
    {
     "data": {
      "image/png": "[encoded data removed]",
      "text/plain": [
       "<Figure size 432x288 with 1 Axes>"
      ]
     },
     "metadata": {
      "needs_background": "light"
     },
     "output_type": "display_data"
    }
   ],
   "source": [
    "# Solution\n",
    "prior.plot(label=\"prior\")\n",
    "posterior.plot(label=\"posterior\")\n",
    "plt.xlabel(\"Probability of getting a hit\")\n",
    "plt.ylabel(\"PMF\")\n",
    "plt.legend();"
   ]
  },
  {
   "cell_type": "code",
   "execution_count": 40,
   "id": "78852db8",
   "metadata": {},
   "outputs": [
    {
     "data": {
      "text/plain": [
       "(0.25, 0.271)"
      ]
     },
     "execution_count": 40,
     "metadata": {},
     "output_type": "execute_result"
    }
   ],
   "source": [
    "prior.max_prob(), posterior.max_prob()"
   ]
  },
  {
   "cell_type": "markdown",
   "id": "80e7a619",
   "metadata": {},
   "source": [
    "## 5 hits in a row"
   ]
  },
  {
   "cell_type": "code",
   "execution_count": 41,
   "id": "88641e94",
   "metadata": {},
   "outputs": [
    {
     "data": {
      "text/plain": [
       "\"Posterior's max probability is 0.28600000000000003\""
      ]
     },
     "execution_count": 41,
     "metadata": {},
     "output_type": "execute_result"
    },
    {
     "data": {
      "image/png": "[encoded data removed]",
      "text/plain": [
       "<Figure size 432x288 with 1 Axes>"
      ]
     },
     "metadata": {
      "needs_background": "light"
     },
     "output_type": "display_data"
    }
   ],
   "source": [
    "# But what about updating the priors with hitting 20 balls in a row?\n",
    "posterior = prior.copy()\n",
    "\n",
    "for data in 'Y' * 5:\n",
    "    posterior *= likelihood[data]\n",
    "\n",
    "posterior.normalize()\n",
    "\n",
    "# Solution\n",
    "prior.plot(label=\"prior\")\n",
    "posterior.plot(label=\"posterior\")\n",
    "plt.xlabel(\"Probability of getting a hit\")\n",
    "plt.ylabel(\"PMF\")\n",
    "plt.legend();\n",
    "f\"Posterior's max probability is {posterior.max_prob()}\""
   ]
  },
  {
   "cell_type": "markdown",
   "id": "59595a39",
   "metadata": {},
   "source": [
    "## 20 hits in a row"
   ]
  },
  {
   "cell_type": "code",
   "execution_count": 42,
   "id": "dd63cea2",
   "metadata": {},
   "outputs": [
    {
     "data": {
      "text/plain": [
       "\"Posterior's max probability is 0.376\""
      ]
     },
     "execution_count": 42,
     "metadata": {},
     "output_type": "execute_result"
    },
    {
     "data": {
      "image/png": "[encoded data removed]",
      "text/plain": [
       "<Figure size 432x288 with 1 Axes>"
      ]
     },
     "metadata": {
      "needs_background": "light"
     },
     "output_type": "display_data"
    }
   ],
   "source": [
    "# But what about updating the priors with hitting 20 balls in a row?\n",
    "posterior = prior.copy()\n",
    "\n",
    "for data in 'Y' * 20:\n",
    "    posterior *= likelihood[data]\n",
    "\n",
    "posterior.normalize()\n",
    "\n",
    "# Solution\n",
    "prior.plot(label=\"prior\")\n",
    "posterior.plot(label=\"posterior\")\n",
    "plt.xlabel(\"Probability of getting a hit\")\n",
    "plt.ylabel(\"PMF\")\n",
    "plt.legend();\n",
    "f\"Posterior's max probability is {posterior.max_prob()}\""
   ]
  },
  {
   "cell_type": "code",
   "execution_count": 43,
   "id": "567f9bc5",
   "metadata": {},
   "outputs": [
    {
     "data": {
      "text/plain": [
       "Float64Index([0.1, 0.10300000000000001, 0.10600000000000001,\n",
       "              0.10900000000000001, 0.112],\n",
       "             dtype='float64')"
      ]
     },
     "execution_count": 43,
     "metadata": {},
     "output_type": "execute_result"
    }
   ],
   "source": [
    "posterior.index[0:5]"
   ]
  },
  {
   "cell_type": "code",
   "execution_count": 44,
   "id": "4052459e",
   "metadata": {},
   "outputs": [
    {
     "data": {
      "text/plain": [
       "array([4.23582819e-16, 1.24697707e-15, 3.53043301e-15, 9.63319470e-15,\n",
       "       2.53824525e-14])"
      ]
     },
     "execution_count": 44,
     "metadata": {},
     "output_type": "execute_result"
    }
   ],
   "source": [
    "posterior.values[0:5]"
   ]
  },
  {
   "cell_type": "code",
   "execution_count": 45,
   "id": "8d20e8cc",
   "metadata": {},
   "outputs": [
    {
     "data": {
      "text/plain": [
       "[<matplotlib.lines.Line2D at 0x7fdb10227af0>]"
      ]
     },
     "execution_count": 45,
     "metadata": {},
     "output_type": "execute_result"
    },
    {
     "data": {
      "image/png": "[encoded data removed]",
      "text/plain": [
       "<Figure size 432x288 with 1 Axes>"
      ]
     },
     "metadata": {
      "needs_background": "light"
     },
     "output_type": "display_data"
    }
   ],
   "source": [
    "plt.plot(posterior.index, posterior.values)"
   ]
  },
  {
   "cell_type": "code",
   "execution_count": 46,
   "id": "42cc9f9e",
   "metadata": {},
   "outputs": [
    {
     "data": {
      "text/plain": [
       "(0.25, 0.376)"
      ]
     },
     "execution_count": 46,
     "metadata": {},
     "output_type": "execute_result"
    }
   ],
   "source": [
    "prior.max_prob(), posterior.max_prob()"
   ]
  },
  {
   "cell_type": "markdown",
   "id": "add2e7c0",
   "metadata": {},
   "source": [
    "Takeaways:\n",
    "- If someone hits 20 balls in a row, they highest likelihood for that outcome is if they batted .319?\n",
    "- Is that what that signifies?\n",
    "- Since this is about probability simulation using new data, that seems to track. "
   ]
  },
  {
   "cell_type": "markdown",
   "id": "daf8eef7",
   "metadata": {},
   "source": [
    "## Exercise\n",
    "Exercise: Whenever you survey people about sensitive issues, you have to deal with social desirability bias, which is the tendency of people to adjust their answers to show themselves in the most positive light. One way to improve the accuracy of the results is randomized response.\n",
    "\n",
    "As an example, suppose you want to know how many people cheat on their taxes. If you ask them directly, it is likely that some of the cheaters will lie. You can get a more accurate estimate if you ask them indirectly, like this: Ask each person to flip a coin and, without revealing the outcome,\n",
    "\n",
    "If they get heads, they report YES.\n",
    "\n",
    "If they get tails, they honestly answer the question “Do you cheat on your taxes?”\n",
    "\n",
    "If someone says YES, we don’t know whether they actually cheat on their taxes; they might have flipped heads. Knowing this, people might be more willing to answer honestly.\n",
    "\n",
    "Suppose you survey 100 people this way and get 80 YESes and 20 NOs. Based on this data, what is the posterior distribution for the fraction of people who cheat on their taxes? What is the most likely quantity in the posterior distribution?"
   ]
  },
  {
   "cell_type": "code",
   "execution_count": 47,
   "id": "a696f7a4",
   "metadata": {},
   "outputs": [],
   "source": [
    "# Setting up a uniform prior distribution (there could be more information that would informa. different prior, but this is good enough)\n",
    "hypos = np.linspace(0, 1, 101)\n",
    "prior = Pmf(1, hypos)"
   ]
  },
  {
   "cell_type": "code",
   "execution_count": 48,
   "id": "e3987819",
   "metadata": {},
   "outputs": [],
   "source": [
    "# If the actual fraction of cheaters is `x`, then the number of\n",
    "# YESs is 0(.5 + x/2) and the number of NOs is (1-x) / 2\n",
    "likelihood = {\n",
    "    \"Y\": 0.5 + hypos/2,\n",
    "    \"N\": (1 - hypos) / 2\n",
    "}"
   ]
  },
  {
   "cell_type": "code",
   "execution_count": 49,
   "id": "451e6215",
   "metadata": {},
   "outputs": [],
   "source": [
    "# Here’s a dataset that yields a reasonable prior distribution.\n",
    "# I'm not in love with this approach (yet)\n",
    "# This sets up someone batting 0.25\n",
    "# I'm not sure where this batting 0.25 came from since it's not in the problem setup\n",
    "dataset = \"Y\" * 80 + \"N\" * 20"
   ]
  },
  {
   "cell_type": "code",
   "execution_count": 50,
   "id": "03a54d13",
   "metadata": {},
   "outputs": [
    {
     "data": {
      "text/plain": [
       "3.6945139133967024e-21"
      ]
     },
     "execution_count": 50,
     "metadata": {},
     "output_type": "execute_result"
    }
   ],
   "source": [
    "posterior = prior.copy()\n",
    "for data in dataset:\n",
    "    posterior *= likelihood[data]\n",
    "\n",
    "posterior.normalize()"
   ]
  },
  {
   "cell_type": "code",
   "execution_count": 51,
   "id": "a0b75017",
   "metadata": {},
   "outputs": [
    {
     "data": {
      "image/png": "[encoded data removed]",
      "text/plain": [
       "<Figure size 432x288 with 1 Axes>"
      ]
     },
     "metadata": {
      "needs_background": "light"
     },
     "output_type": "display_data"
    }
   ],
   "source": [
    "posterior.plot(label=\"80 YES, 20 NO\")\n",
    "plt.xlabel(\"Proportion of cheaters\")\n",
    "plt.ylabel(\"PMF\")\n",
    "plt.legend()\n",
    "plt.plot();"
   ]
  },
  {
   "cell_type": "markdown",
   "id": "cc745c99",
   "metadata": {},
   "source": [
    "## Exercise\n",
    "Exercise: Suppose you want to test whether a coin is fair, but you don’t want to spin it hundreds of times. So you make a machine that spins the coin automatically and uses computer vision to determine the outcome.\n",
    "\n",
    "However, you discover that the machine is not always accurate. Specifically, suppose the probability is y=0.2 that an actual heads is reported as tails, or actual tails reported as heads.\n",
    "\n",
    "If we spin a coin 250 times and the machine reports 140 heads, what is the posterior distribution of x? What happens as you vary the value of y?"
   ]
  },
  {
   "cell_type": "code",
   "execution_count": 52,
   "id": "4b66a710",
   "metadata": {},
   "outputs": [],
   "source": [
    "# Update beliefs but add some unreliability in the system from y\n",
    "def update_unreliable(pmf, dataset, y):\n",
    "    \n",
    "    likelihood = {\n",
    "        \"H\": (1 - y) * hypos + y * (1 - hypos),\n",
    "        \"T\": y * hypos + (1 - y) * (1 - hypos)\n",
    "    }\n",
    "    \n",
    "    for data in dataset:\n",
    "        pmf *= likelihood[data]\n",
    "    \n",
    "    pmf.normalize()"
   ]
  },
  {
   "cell_type": "code",
   "execution_count": 53,
   "id": "6d1e562c",
   "metadata": {},
   "outputs": [],
   "source": [
    "# solution\n",
    "# Setup a prior. It's uniform\n",
    "hypos = np.linspace(0, 1, 101)\n",
    "prior = Pmf(1, hypos)\n",
    "dataset = \"H\" * 140 + \"T\" * 110"
   ]
  },
  {
   "cell_type": "code",
   "execution_count": 54,
   "id": "cf1149a8",
   "metadata": {},
   "outputs": [],
   "source": [
    "# Set up 3 scenarios\n",
    "\n",
    "# No unreliability\n",
    "posterior00 = prior.copy()\n",
    "update_unreliable(posterior00, dataset, 0.0)\n",
    "\n",
    "# 20% unreliability of y\n",
    "posterior02 = prior.copy()\n",
    "update_unreliable(posterior02, dataset, 0.2)\n",
    "\n",
    "# 40% unreliability of y\n",
    "posterior04 = prior.copy()\n",
    "update_unreliable(posterior04, dataset, 0.4)"
   ]
  },
  {
   "cell_type": "code",
   "execution_count": 55,
   "id": "62ce0b3c",
   "metadata": {},
   "outputs": [
    {
     "data": {
      "image/png": "[encoded data removed]",
      "text/plain": [
       "<Figure size 432x288 with 1 Axes>"
      ]
     },
     "metadata": {
      "needs_background": "light"
     },
     "output_type": "display_data"
    }
   ],
   "source": [
    "# Solution\n",
    "\n",
    "posterior00.plot(label='y = 0.0')\n",
    "posterior02.plot(label='y = 0.2')\n",
    "posterior04.plot(label='y = 0.4')\n",
    "plt.title(\"Differing unreliabilities of measure y\")\n",
    "plt.xlabel('Proportion of heads')\n",
    "plt.ylabel('PMF')\n",
    "plt.legend()\n",
    "plt.show();"
   ]
  },
  {
   "cell_type": "code",
   "execution_count": 56,
   "id": "f948d48e",
   "metadata": {},
   "outputs": [
    {
     "data": {
      "text/plain": [
       "(0.56, 0.6, 0.8)"
      ]
     },
     "execution_count": 56,
     "metadata": {},
     "output_type": "execute_result"
    }
   ],
   "source": [
    "# Solution\n",
    "\n",
    "posterior00.idxmax(), posterior02.idxmax(), posterior04.idxmax()"
   ]
  },
  {
   "cell_type": "markdown",
   "id": "4ae8bf6f",
   "metadata": {},
   "source": [
    "## Exercise\n",
    "Exercise: In preparation for an alien invasion, the Earth Defense League (EDL) has been working on new missiles to shoot down space invaders. Of course, some missile designs are better than others; let’s assume that each design has some probability of hitting an alien ship, x.\n",
    "\n",
    "Based on previous tests, the distribution of x in the population of designs is approximately uniform between 0.1 and 0.4.\n",
    "\n",
    "Now suppose the new ultra-secret Alien Blaster 9000 is being tested. In a press conference, an EDL general reports that the new design has been tested twice, taking two shots during each test. The results of the test are confidential, so the general won’t say how many targets were hit, but they report: “The same number of targets were hit in the two tests, so we have reason to think this new design is consistent.”\n",
    "\n",
    "Is this data good or bad? That is, does it increase or decrease your estimate of x for the Alien Blaster 9000?\n",
    "\n",
    "Hint: If the probability of hitting each target is 𝑥, the probability of hitting one target in both tests is [2𝑥(1−𝑥)]2."
   ]
  },
  {
   "cell_type": "code",
   "execution_count": 57,
   "id": "88be92ec",
   "metadata": {},
   "outputs": [],
   "source": [
    "# Setup\n",
    "hypos = np.linspace(0.1, 0.4, 101)\n",
    "prior = Pmf(1, hypos)"
   ]
  },
  {
   "cell_type": "code",
   "execution_count": 58,
   "id": "723bd557",
   "metadata": {},
   "outputs": [],
   "source": [
    "\n",
    "# Here's a specific version for n=2 shots per test\n",
    "\n",
    "x = hypos\n",
    "likes = [(1-x)**4, (2*x*(1-x))**2, x**4]\n",
    "likelihood = np.sum(likes, axis=0)"
   ]
  },
  {
   "cell_type": "code",
   "execution_count": 59,
   "id": "e5fd5d41",
   "metadata": {},
   "outputs": [],
   "source": [
    "# Solution\n",
    "\n",
    "# Here's a more general version for any n shots per test\n",
    "\n",
    "from scipy.stats import binom\n",
    "\n",
    "n = 2\n",
    "likes2 = [binom.pmf(k, n, x)**2 for k in range(n+1)]\n",
    "likelihood2 = np.sum(likes2, axis=0)"
   ]
  },
  {
   "cell_type": "code",
   "execution_count": 60,
   "id": "ef1c5e1c",
   "metadata": {},
   "outputs": [
    {
     "data": {
      "image/png": "[encoded data removed]",
      "text/plain": [
       "<Figure size 432x288 with 1 Axes>"
      ]
     },
     "metadata": {
      "needs_background": "light"
     },
     "output_type": "display_data"
    }
   ],
   "source": [
    "\n",
    "# Here are the likelihoods, computed both ways\n",
    "\n",
    "import matplotlib.pyplot as plt\n",
    "\n",
    "plt.plot(x, likelihood, label='special case')\n",
    "plt.plot(x, likelihood2, label='general formula')\n",
    "plt.xlabel('Probability of hitting the target')\n",
    "plt.ylabel('Likelihood')\n",
    "plt.title('Likelihood of getting the same result')\n",
    "plt.show();"
   ]
  },
  {
   "cell_type": "code",
   "execution_count": 61,
   "id": "c1d818a5",
   "metadata": {},
   "outputs": [
    {
     "data": {
      "text/plain": [
       "49.129627998379995"
      ]
     },
     "execution_count": 61,
     "metadata": {},
     "output_type": "execute_result"
    }
   ],
   "source": [
    "posterior = prior * likelihood\n",
    "posterior.normalize()"
   ]
  },
  {
   "cell_type": "code",
   "execution_count": 62,
   "id": "38260638",
   "metadata": {},
   "outputs": [
    {
     "data": {
      "text/plain": [
       "(0.0, 0.015)"
      ]
     },
     "execution_count": 62,
     "metadata": {},
     "output_type": "execute_result"
    },
    {
     "data": {
      "image/png": "[encoded data removed]",
      "text/plain": [
       "<Figure size 432x288 with 1 Axes>"
      ]
     },
     "metadata": {
      "needs_background": "light"
     },
     "output_type": "display_data"
    }
   ],
   "source": [
    "posterior.plot(label='Two tests, two shots, same outcome',\n",
    "               color='C4')\n",
    "plt.xlabel('Probability of hitting the target')\n",
    "plt.ylabel('PMF')\n",
    "plt.title('Posterior distribution')\n",
    "plt.ylim(0, 0.015)"
   ]
  },
  {
   "cell_type": "code",
   "execution_count": 63,
   "id": "40d4c1d7",
   "metadata": {},
   "outputs": [],
   "source": [
    "# Solution\n",
    "\n",
    "# Getting the same result in both tests is more likely for \n",
    "# extreme values of `x` and least likely when `x=0.5`.\n",
    "\n",
    "# In this example, the prior indicates that `x` is less than 0.5,\n",
    "# and the update gives more weight to extreme values.\n",
    "\n",
    "# So the dataset makes lower values of `x` more likely."
   ]
  },
  {
   "cell_type": "code",
   "execution_count": null,
   "id": "c3493e82",
   "metadata": {},
   "outputs": [],
   "source": []
  }
 ],
 "metadata": {
  "kernelspec": {
   "display_name": "Python 3 (ipykernel)",
   "language": "python",
   "name": "python3"
  },
  "language_info": {
   "codemirror_mode": {
    "name": "ipython",
    "version": 3
   },
   "file_extension": ".py",
   "mimetype": "text/x-python",
   "name": "python",
   "nbconvert_exporter": "python",
   "pygments_lexer": "ipython3",
   "version": "3.9.7"
  }
 },
 "nbformat": 4,
 "nbformat_minor": 5
}
