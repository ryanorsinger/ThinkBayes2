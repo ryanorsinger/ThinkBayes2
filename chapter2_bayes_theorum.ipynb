{
 "cells": [
  {
   "cell_type": "markdown",
   "id": "09ad66c9",
   "metadata": {},
   "source": [
    "# Bayes's Theorum\n",
    "\n",
    "$$P(A|B) = \\frac{P(A)P(B|A)}{P(B)}$$\n",
    "\n",
    "As an example, we used data from the General Social Survey and Bayes’s Theorem to compute conditional probabilities. But since we had the complete dataset, we didn’t really need Bayes’s Theorem. It was easy enough to compute the left side of the equation directly, and no easier to compute the right side.\n",
    "\n",
    "But often we don’t have a complete dataset, and in that case Bayes’s Theorem is more useful. In this chapter, we’ll use it to solve several more challenging problems related to conditional probability."
   ]
  },
  {
   "cell_type": "code",
   "execution_count": 1,
   "id": "c3fa17a4",
   "metadata": {},
   "outputs": [],
   "source": [
    "import pandas as pd"
   ]
  },
  {
   "cell_type": "code",
   "execution_count": 2,
   "id": "46e748f1",
   "metadata": {},
   "outputs": [
    {
     "data": {
      "text/html": [
       "<div>\n",
       "<style scoped>\n",
       "    .dataframe tbody tr th:only-of-type {\n",
       "        vertical-align: middle;\n",
       "    }\n",
       "\n",
       "    .dataframe tbody tr th {\n",
       "        vertical-align: top;\n",
       "    }\n",
       "\n",
       "    .dataframe thead th {\n",
       "        text-align: right;\n",
       "    }\n",
       "</style>\n",
       "<table border=\"1\" class=\"dataframe\">\n",
       "  <thead>\n",
       "    <tr style=\"text-align: right;\">\n",
       "      <th></th>\n",
       "      <th>caseid</th>\n",
       "      <th>year</th>\n",
       "      <th>age</th>\n",
       "      <th>sex</th>\n",
       "      <th>polviews</th>\n",
       "      <th>partyid</th>\n",
       "      <th>indus10</th>\n",
       "    </tr>\n",
       "  </thead>\n",
       "  <tbody>\n",
       "    <tr>\n",
       "      <th>0</th>\n",
       "      <td>1</td>\n",
       "      <td>1974</td>\n",
       "      <td>21.0</td>\n",
       "      <td>1</td>\n",
       "      <td>4.0</td>\n",
       "      <td>2.0</td>\n",
       "      <td>4970.0</td>\n",
       "    </tr>\n",
       "    <tr>\n",
       "      <th>1</th>\n",
       "      <td>2</td>\n",
       "      <td>1974</td>\n",
       "      <td>41.0</td>\n",
       "      <td>1</td>\n",
       "      <td>5.0</td>\n",
       "      <td>0.0</td>\n",
       "      <td>9160.0</td>\n",
       "    </tr>\n",
       "    <tr>\n",
       "      <th>2</th>\n",
       "      <td>5</td>\n",
       "      <td>1974</td>\n",
       "      <td>58.0</td>\n",
       "      <td>2</td>\n",
       "      <td>6.0</td>\n",
       "      <td>1.0</td>\n",
       "      <td>2670.0</td>\n",
       "    </tr>\n",
       "    <tr>\n",
       "      <th>3</th>\n",
       "      <td>6</td>\n",
       "      <td>1974</td>\n",
       "      <td>30.0</td>\n",
       "      <td>1</td>\n",
       "      <td>5.0</td>\n",
       "      <td>4.0</td>\n",
       "      <td>6870.0</td>\n",
       "    </tr>\n",
       "    <tr>\n",
       "      <th>4</th>\n",
       "      <td>7</td>\n",
       "      <td>1974</td>\n",
       "      <td>48.0</td>\n",
       "      <td>1</td>\n",
       "      <td>5.0</td>\n",
       "      <td>4.0</td>\n",
       "      <td>7860.0</td>\n",
       "    </tr>\n",
       "  </tbody>\n",
       "</table>\n",
       "</div>"
      ],
      "text/plain": [
       "   caseid  year   age  sex  polviews  partyid  indus10\n",
       "0       1  1974  21.0    1       4.0      2.0   4970.0\n",
       "1       2  1974  41.0    1       5.0      0.0   9160.0\n",
       "2       5  1974  58.0    2       6.0      1.0   2670.0\n",
       "3       6  1974  30.0    1       5.0      4.0   6870.0\n",
       "4       7  1974  48.0    1       5.0      4.0   7860.0"
      ]
     },
     "execution_count": 2,
     "metadata": {},
     "output_type": "execute_result"
    }
   ],
   "source": [
    "df = pd.read_csv(\"gss_bayes.csv\")\n",
    "df.head()"
   ]
  },
  {
   "cell_type": "markdown",
   "id": "3b732dea",
   "metadata": {},
   "source": [
    "## The Cookie Problem\n",
    "Suppose there are two bowls of cookies.\n",
    "\n",
    "- Bowl 1 contains 30 vanilla cookies and 10 chocolate cookies.\n",
    "\n",
    "- Bowl 2 contains 20 vanilla cookies and 20 chocolate cookies.\n",
    "\n",
    "Now suppose you choose one of the bowls at random and, without looking, choose a cookie at random. If the cookie is vanilla, what is the probability that it came from Bowl 1?\n",
    "\n",
    "What we're trying to find is $P(B_1 | V)$ which is the probabililty of the cookie being from bowl 1 given it's vanilla.\n",
    "\n",
    "$$P(B_1 | V) = \\frac{P(B_1)P(V|B_1)}{P(V)}$$\n",
    "\n",
    "- $P(B_1)$ the prob(bowl_1) is .5 since bowl 1 has 40 and bowl 2 has 40\n",
    "- $P(V|B_1)$ is cond(vanilla, given=bowl_1) is 3/4 since of bowl1 vanilla is 3/4\n",
    "- $P(V)$ is 5/8 since there are 50 vanilla cookies total out of 80 total cookies"
   ]
  },
  {
   "cell_type": "code",
   "execution_count": 3,
   "id": "9dc013b4",
   "metadata": {},
   "outputs": [],
   "source": [
    "p_b1 = .5\n",
    "p_v_given_b1 = .75\n",
    "p_v = 5/8"
   ]
  },
  {
   "cell_type": "code",
   "execution_count": 5,
   "id": "61194e8c",
   "metadata": {},
   "outputs": [
    {
     "data": {
      "text/plain": [
       "0.6"
      ]
     },
     "execution_count": 5,
     "metadata": {},
     "output_type": "execute_result"
    }
   ],
   "source": [
    "p_b1_given_vanilla = p_b1 * p_v_given_b1 / p_v\n",
    "p_b1_given_vanilla"
   ]
  },
  {
   "cell_type": "code",
   "execution_count": 6,
   "id": "9c9ba29b",
   "metadata": {},
   "outputs": [],
   "source": [
    "import pandas as pd"
   ]
  },
  {
   "cell_type": "code",
   "execution_count": 7,
   "id": "754b7e42",
   "metadata": {},
   "outputs": [],
   "source": [
    "def prob(a):\n",
    "    return a.mean()"
   ]
  },
  {
   "cell_type": "code",
   "execution_count": 9,
   "id": "ef1c21e3",
   "metadata": {},
   "outputs": [],
   "source": [
    "def conditional(proposition, given):\n",
    "    \"\"\"Probability of A conditioned on given.\"\"\"\n",
    "    prob(proposition[given])"
   ]
  },
  {
   "cell_type": "markdown",
   "id": "bcdbe044",
   "metadata": {},
   "source": [
    "## Diachronic Bayes\n",
    "- \"Dia\" \"chronos\" = through time\n",
    "- Another way of thinking of Bayes's theorum: gives us a way to update the probability of a hypothesis, H, given some body of data, D\n",
    "\n",
    "\n",
    "$$P(H|D) = \\frac{P(H)P(D|H)}{P(D)}$$\n",
    "\n",
    "- $P(H)$ is the *prior*, the probability of the hypothesis before we see the data\n",
    "- $P(H|D)$ is the *posterior*, the probability of the hypothesis after we see the data\n",
    "- $P(D|H)$ is the *likelihood*, the probability of the data under the hypothesis. \"The probability of the data given the hypothesis\"\n",
    "- $P(D)$ is the *total probability of the data* under any hypothesis\n",
    "- Remember that $P(D)$ is $\\sum_i$ P(H_i)(P|H_i)$ \n",
    "- This means the set of hypotheses are mutually exclusive and collectively exhaustive\n",
    "\n",
    "In some cases the prior is subjective; that is, reasonable people might disagree, either because they use different background information or because they interpret the same information differently.\n",
    "\n",
    "The likelihood is usually the easiest part to compute.\n",
    "\n",
    "Computing the total probability of the data can be tricky. It is supposed to be the probability of seeing the data under any hypothesis at all, but it can be hard to nail down what that means.\n",
    "\n",
    "Most often we simplify things by specifying a set of hypotheses that are:\n",
    "\n",
    "Mutually exclusive, which means that only one of them can be true, and\n",
    "\n",
    "Collectively exhaustive, which means one of them must be true."
   ]
  },
  {
   "cell_type": "code",
   "execution_count": null,
   "id": "6fa4bfa7",
   "metadata": {},
   "outputs": [],
   "source": []
  }
 ],
 "metadata": {
  "kernelspec": {
   "display_name": "Python 3 (ipykernel)",
   "language": "python",
   "name": "python3"
  },
  "language_info": {
   "codemirror_mode": {
    "name": "ipython",
    "version": 3
   },
   "file_extension": ".py",
   "mimetype": "text/x-python",
   "name": "python",
   "nbconvert_exporter": "python",
   "pygments_lexer": "ipython3",
   "version": "3.9.7"
  }
 },
 "nbformat": 4,
 "nbformat_minor": 5
}
