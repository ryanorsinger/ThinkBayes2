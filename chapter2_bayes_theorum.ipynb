{
 "cells": [
  {
   "cell_type": "markdown",
   "id": "09ad66c9",
   "metadata": {},
   "source": [
    "# Bayes's Theorum\n",
    "\n",
    "$$P(A|B) = \\frac{P(A)P(B|A)}{P(B)}$$\n",
    "\n",
    "As an example, we used data from the General Social Survey and Bayes’s Theorem to compute conditional probabilities. But since we had the complete dataset, we didn’t really need Bayes’s Theorem. It was easy enough to compute the left side of the equation directly, and no easier to compute the right side.\n",
    "\n",
    "But often we don’t have a complete dataset, and in that case Bayes’s Theorem is more useful. In this chapter, we’ll use it to solve several more challenging problems related to conditional probability."
   ]
  },
  {
   "cell_type": "code",
   "execution_count": 1,
   "id": "c3fa17a4",
   "metadata": {},
   "outputs": [],
   "source": [
    "import pandas as pd"
   ]
  },
  {
   "cell_type": "code",
   "execution_count": 2,
   "id": "46e748f1",
   "metadata": {},
   "outputs": [
    {
     "data": {
      "text/html": [
       "<div>\n",
       "<style scoped>\n",
       "    .dataframe tbody tr th:only-of-type {\n",
       "        vertical-align: middle;\n",
       "    }\n",
       "\n",
       "    .dataframe tbody tr th {\n",
       "        vertical-align: top;\n",
       "    }\n",
       "\n",
       "    .dataframe thead th {\n",
       "        text-align: right;\n",
       "    }\n",
       "</style>\n",
       "<table border=\"1\" class=\"dataframe\">\n",
       "  <thead>\n",
       "    <tr style=\"text-align: right;\">\n",
       "      <th></th>\n",
       "      <th>caseid</th>\n",
       "      <th>year</th>\n",
       "      <th>age</th>\n",
       "      <th>sex</th>\n",
       "      <th>polviews</th>\n",
       "      <th>partyid</th>\n",
       "      <th>indus10</th>\n",
       "    </tr>\n",
       "  </thead>\n",
       "  <tbody>\n",
       "    <tr>\n",
       "      <th>0</th>\n",
       "      <td>1</td>\n",
       "      <td>1974</td>\n",
       "      <td>21.0</td>\n",
       "      <td>1</td>\n",
       "      <td>4.0</td>\n",
       "      <td>2.0</td>\n",
       "      <td>4970.0</td>\n",
       "    </tr>\n",
       "    <tr>\n",
       "      <th>1</th>\n",
       "      <td>2</td>\n",
       "      <td>1974</td>\n",
       "      <td>41.0</td>\n",
       "      <td>1</td>\n",
       "      <td>5.0</td>\n",
       "      <td>0.0</td>\n",
       "      <td>9160.0</td>\n",
       "    </tr>\n",
       "    <tr>\n",
       "      <th>2</th>\n",
       "      <td>5</td>\n",
       "      <td>1974</td>\n",
       "      <td>58.0</td>\n",
       "      <td>2</td>\n",
       "      <td>6.0</td>\n",
       "      <td>1.0</td>\n",
       "      <td>2670.0</td>\n",
       "    </tr>\n",
       "    <tr>\n",
       "      <th>3</th>\n",
       "      <td>6</td>\n",
       "      <td>1974</td>\n",
       "      <td>30.0</td>\n",
       "      <td>1</td>\n",
       "      <td>5.0</td>\n",
       "      <td>4.0</td>\n",
       "      <td>6870.0</td>\n",
       "    </tr>\n",
       "    <tr>\n",
       "      <th>4</th>\n",
       "      <td>7</td>\n",
       "      <td>1974</td>\n",
       "      <td>48.0</td>\n",
       "      <td>1</td>\n",
       "      <td>5.0</td>\n",
       "      <td>4.0</td>\n",
       "      <td>7860.0</td>\n",
       "    </tr>\n",
       "  </tbody>\n",
       "</table>\n",
       "</div>"
      ],
      "text/plain": [
       "   caseid  year   age  sex  polviews  partyid  indus10\n",
       "0       1  1974  21.0    1       4.0      2.0   4970.0\n",
       "1       2  1974  41.0    1       5.0      0.0   9160.0\n",
       "2       5  1974  58.0    2       6.0      1.0   2670.0\n",
       "3       6  1974  30.0    1       5.0      4.0   6870.0\n",
       "4       7  1974  48.0    1       5.0      4.0   7860.0"
      ]
     },
     "execution_count": 2,
     "metadata": {},
     "output_type": "execute_result"
    }
   ],
   "source": [
    "df = pd.read_csv(\"gss_bayes.csv\")\n",
    "df.head()"
   ]
  },
  {
   "cell_type": "markdown",
   "id": "3b732dea",
   "metadata": {},
   "source": [
    "## The Cookie Problem\n",
    "Suppose there are two bowls of cookies.\n",
    "\n",
    "- Bowl 1 contains 30 vanilla cookies and 10 chocolate cookies.\n",
    "\n",
    "- Bowl 2 contains 20 vanilla cookies and 20 chocolate cookies.\n",
    "\n",
    "Now suppose you choose one of the bowls at random and, without looking, choose a cookie at random. If the cookie is vanilla, what is the probability that it came from Bowl 1?\n",
    "\n",
    "What we're trying to find is $P(B_1 | V)$ which is the probabililty of the cookie being from bowl 1 given it's vanilla.\n",
    "\n",
    "$$P(B_1 | V) = \\frac{P(B_1)P(V|B_1)}{P(V)}$$\n",
    "\n",
    "- $P(B_1)$ the prob(bowl_1) is .5 since bowl 1 has 40 and bowl 2 has 40\n",
    "- $P(V|B_1)$ is cond(vanilla, given=bowl_1) is 3/4 since of bowl1 vanilla is 3/4\n",
    "- $P(V)$ is 5/8 since there are 50 vanilla cookies total out of 80 total cookies"
   ]
  },
  {
   "cell_type": "code",
   "execution_count": 3,
   "id": "9dc013b4",
   "metadata": {},
   "outputs": [],
   "source": [
    "p_b1 = .5\n",
    "p_v_given_b1 = .75\n",
    "p_v = 5/8"
   ]
  },
  {
   "cell_type": "code",
   "execution_count": 4,
   "id": "61194e8c",
   "metadata": {},
   "outputs": [
    {
     "data": {
      "text/plain": [
       "0.6"
      ]
     },
     "execution_count": 4,
     "metadata": {},
     "output_type": "execute_result"
    }
   ],
   "source": [
    "p_b1_given_vanilla = p_b1 * p_v_given_b1 / p_v\n",
    "p_b1_given_vanilla"
   ]
  },
  {
   "cell_type": "code",
   "execution_count": 5,
   "id": "9c9ba29b",
   "metadata": {},
   "outputs": [],
   "source": [
    "import pandas as pd"
   ]
  },
  {
   "cell_type": "code",
   "execution_count": 6,
   "id": "754b7e42",
   "metadata": {},
   "outputs": [],
   "source": [
    "def prob(a):\n",
    "    return a.mean()"
   ]
  },
  {
   "cell_type": "code",
   "execution_count": 7,
   "id": "ef1c21e3",
   "metadata": {},
   "outputs": [],
   "source": [
    "def conditional(proposition, given):\n",
    "    \"\"\"Probability of A conditioned on given.\"\"\"\n",
    "    prob(proposition[given])"
   ]
  },
  {
   "cell_type": "markdown",
   "id": "bcdbe044",
   "metadata": {},
   "source": [
    "## Diachronic Bayes\n",
    "- \"Dia\" \"chronos\" = through time\n",
    "- Another way of thinking of Bayes's theorum: gives us a way to update the probability of a hypothesis, H, given some body of data, D\n",
    "\n",
    "\n",
    "$$P(H|D) = \\frac{P(H)P(D|H)}{P(D)}$$\n",
    "\n",
    "$$Posterior = \\frac{prior*likelihood}{total  probability}$$\n",
    "\n",
    "- $P(H)$ is the *prior*, the probability of the hypothesis before we see the data\n",
    "- $P(H|D)$ is the *posterior*, the probability of the hypothesis after we see the data\n",
    "- $P(D|H)$ is the *likelihood*, the probability of the data under the hypothesis. \"The probability of the data given the hypothesis\"\n",
    "- $P(D)$ is the *total probability of the data* under any hypothesis\n",
    "- Remember that $P(D)$ is $\\sum_i$ P(H_i)(P|H_i)$ \n",
    "- This means the set of hypotheses are mutually exclusive and collectively exhaustive\n",
    "\n",
    "In some cases the prior is subjective; that is, reasonable people might disagree, either because they use different background information or because they interpret the same information differently.\n",
    "\n",
    "The likelihood is usually the easiest part to compute.\n",
    "\n",
    "Computing the total probability of the data can be tricky. It is supposed to be the probability of seeing the data under any hypothesis at all, but it can be hard to nail down what that means.\n",
    "\n",
    "Most often we simplify things by specifying a set of hypotheses that are:\n",
    "\n",
    "Mutually exclusive, which means that only one of them can be true, and\n",
    "\n",
    "Collectively exhaustive, which means one of them must be true."
   ]
  },
  {
   "cell_type": "code",
   "execution_count": 8,
   "id": "6fa4bfa7",
   "metadata": {},
   "outputs": [
    {
     "data": {
      "text/html": [
       "<div>\n",
       "<style scoped>\n",
       "    .dataframe tbody tr th:only-of-type {\n",
       "        vertical-align: middle;\n",
       "    }\n",
       "\n",
       "    .dataframe tbody tr th {\n",
       "        vertical-align: top;\n",
       "    }\n",
       "\n",
       "    .dataframe thead th {\n",
       "        text-align: right;\n",
       "    }\n",
       "</style>\n",
       "<table border=\"1\" class=\"dataframe\">\n",
       "  <thead>\n",
       "    <tr style=\"text-align: right;\">\n",
       "      <th></th>\n",
       "      <th>prior</th>\n",
       "      <th>likelihood</th>\n",
       "    </tr>\n",
       "  </thead>\n",
       "  <tbody>\n",
       "    <tr>\n",
       "      <th>Bowl1</th>\n",
       "      <td>0.5</td>\n",
       "      <td>0.75</td>\n",
       "    </tr>\n",
       "    <tr>\n",
       "      <th>Bowl2</th>\n",
       "      <td>0.5</td>\n",
       "      <td>0.50</td>\n",
       "    </tr>\n",
       "  </tbody>\n",
       "</table>\n",
       "</div>"
      ],
      "text/plain": [
       "       prior  likelihood\n",
       "Bowl1    0.5        0.75\n",
       "Bowl2    0.5        0.50"
      ]
     },
     "execution_count": 8,
     "metadata": {},
     "output_type": "execute_result"
    }
   ],
   "source": [
    "table = pd.DataFrame(index=[\"Bowl1\", \"Bowl2\"])\n",
    "table[\"prior\"] = 1/2, 1/2\n",
    "table[\"likelihood\"] = 3/4, 1/2\n",
    "table"
   ]
  },
  {
   "cell_type": "markdown",
   "id": "9c2bd4a6",
   "metadata": {},
   "source": [
    "Priors NEED to add to 1.\n",
    "\n",
    "Likelihoods don't need to.\n",
    "\n",
    "You might notice that the likelihoods don’t add up to 1. That’s OK; each of them is a probability conditioned on a different hypothesis. There’s no reason they should add up to 1 and no problem if they don’t."
   ]
  },
  {
   "cell_type": "code",
   "execution_count": 9,
   "id": "12f85841",
   "metadata": {},
   "outputs": [
    {
     "data": {
      "text/html": [
       "<div>\n",
       "<style scoped>\n",
       "    .dataframe tbody tr th:only-of-type {\n",
       "        vertical-align: middle;\n",
       "    }\n",
       "\n",
       "    .dataframe tbody tr th {\n",
       "        vertical-align: top;\n",
       "    }\n",
       "\n",
       "    .dataframe thead th {\n",
       "        text-align: right;\n",
       "    }\n",
       "</style>\n",
       "<table border=\"1\" class=\"dataframe\">\n",
       "  <thead>\n",
       "    <tr style=\"text-align: right;\">\n",
       "      <th></th>\n",
       "      <th>prior</th>\n",
       "      <th>likelihood</th>\n",
       "      <th>unnorm</th>\n",
       "    </tr>\n",
       "  </thead>\n",
       "  <tbody>\n",
       "    <tr>\n",
       "      <th>Bowl1</th>\n",
       "      <td>0.5</td>\n",
       "      <td>0.75</td>\n",
       "      <td>0.375</td>\n",
       "    </tr>\n",
       "    <tr>\n",
       "      <th>Bowl2</th>\n",
       "      <td>0.5</td>\n",
       "      <td>0.50</td>\n",
       "      <td>0.250</td>\n",
       "    </tr>\n",
       "  </tbody>\n",
       "</table>\n",
       "</div>"
      ],
      "text/plain": [
       "       prior  likelihood  unnorm\n",
       "Bowl1    0.5        0.75   0.375\n",
       "Bowl2    0.5        0.50   0.250"
      ]
     },
     "execution_count": 9,
     "metadata": {},
     "output_type": "execute_result"
    }
   ],
   "source": [
    "# next step is to multiply priors by the likelihoods\n",
    "# \"unnormalized posteriors\"\n",
    "table[\"unnorm\"] = table.prior * table.likelihood\n",
    "table"
   ]
  },
  {
   "cell_type": "markdown",
   "id": "4f54ac67",
   "metadata": {},
   "source": [
    "What we did was calculate the numerator of Bayes's Theorum:\n",
    "$$P(B_i)P(D|B_i)$$\n",
    "\n",
    "Now if we sum them up, we get the denominator\n",
    "$$P(B_1)P(D|B_1) + P(B_2)P(D|B_2)$$"
   ]
  },
  {
   "cell_type": "code",
   "execution_count": 10,
   "id": "58e4713a",
   "metadata": {},
   "outputs": [
    {
     "data": {
      "text/plain": [
       "0.625"
      ]
     },
     "execution_count": 10,
     "metadata": {},
     "output_type": "execute_result"
    }
   ],
   "source": [
    "# P(D) is 5/8, which the probability of seeing the data from any bowl\n",
    "prob_data = table['unnorm'].sum()\n",
    "prob_data"
   ]
  },
  {
   "cell_type": "code",
   "execution_count": 11,
   "id": "68085c7f",
   "metadata": {},
   "outputs": [],
   "source": [
    "# Get the posterior \n",
    "# P(H|D)\n",
    "# The probability of the hypothesis given the data\n",
    "table[\"posterior\"] = table[\"unnorm\"] / prob_data"
   ]
  },
  {
   "cell_type": "code",
   "execution_count": 12,
   "id": "8ee6a51d",
   "metadata": {},
   "outputs": [
    {
     "data": {
      "text/html": [
       "<div>\n",
       "<style scoped>\n",
       "    .dataframe tbody tr th:only-of-type {\n",
       "        vertical-align: middle;\n",
       "    }\n",
       "\n",
       "    .dataframe tbody tr th {\n",
       "        vertical-align: top;\n",
       "    }\n",
       "\n",
       "    .dataframe thead th {\n",
       "        text-align: right;\n",
       "    }\n",
       "</style>\n",
       "<table border=\"1\" class=\"dataframe\">\n",
       "  <thead>\n",
       "    <tr style=\"text-align: right;\">\n",
       "      <th></th>\n",
       "      <th>prior</th>\n",
       "      <th>likelihood</th>\n",
       "      <th>unnorm</th>\n",
       "      <th>posterior</th>\n",
       "    </tr>\n",
       "  </thead>\n",
       "  <tbody>\n",
       "    <tr>\n",
       "      <th>Bowl1</th>\n",
       "      <td>0.5</td>\n",
       "      <td>0.75</td>\n",
       "      <td>0.375</td>\n",
       "      <td>0.6</td>\n",
       "    </tr>\n",
       "    <tr>\n",
       "      <th>Bowl2</th>\n",
       "      <td>0.5</td>\n",
       "      <td>0.50</td>\n",
       "      <td>0.250</td>\n",
       "      <td>0.4</td>\n",
       "    </tr>\n",
       "  </tbody>\n",
       "</table>\n",
       "</div>"
      ],
      "text/plain": [
       "       prior  likelihood  unnorm  posterior\n",
       "Bowl1    0.5        0.75   0.375        0.6\n",
       "Bowl2    0.5        0.50   0.250        0.4"
      ]
     },
     "execution_count": 12,
     "metadata": {},
     "output_type": "execute_result"
    }
   ],
   "source": [
    "# posteriors P(H|D) need to sum to 1\n",
    "# mutually exclusive and collectively exhaustive\n",
    "table"
   ]
  },
  {
   "cell_type": "markdown",
   "id": "bcfa9848",
   "metadata": {},
   "source": [
    "When we add up the unnormalized posteriors and divide through, we force the posteriors to add up to 1. This process is called “normalization”, which is why the total probability of the data is also called the “normalizing constant”."
   ]
  },
  {
   "cell_type": "markdown",
   "id": "f2b26df8",
   "metadata": {},
   "source": [
    "## The Dice Problem\n",
    "- A Bayes table can solve problems with more than two hypotheses:\n",
    "\n",
    "> Suppose we have a box with a d6 die, a d8 die, and a d12 die. If we choose one die at random, roll it, and report the outcome is a 1, what is the probability that I chose the 6-sided die?]\n",
    "\n",
    "p(1) on d6 is 1/6\n",
    "p(1) on d8 is 1/8\n",
    "p(1) on d12 is 1/12"
   ]
  },
  {
   "cell_type": "code",
   "execution_count": 13,
   "id": "e9fee681",
   "metadata": {},
   "outputs": [],
   "source": [
    "from fractions import Fraction"
   ]
  },
  {
   "cell_type": "code",
   "execution_count": 14,
   "id": "eacbf9bd",
   "metadata": {},
   "outputs": [],
   "source": [
    "# The index is the set of hypotheses\n",
    "# We'll use 6, 8, and 12 to represent the sides of each die.\n",
    "dice_table = pd.DataFrame(index=[6, 8 , 12])"
   ]
  },
  {
   "cell_type": "code",
   "execution_count": 15,
   "id": "33b4849d",
   "metadata": {},
   "outputs": [
    {
     "data": {
      "text/html": [
       "<div>\n",
       "<style scoped>\n",
       "    .dataframe tbody tr th:only-of-type {\n",
       "        vertical-align: middle;\n",
       "    }\n",
       "\n",
       "    .dataframe tbody tr th {\n",
       "        vertical-align: top;\n",
       "    }\n",
       "\n",
       "    .dataframe thead th {\n",
       "        text-align: right;\n",
       "    }\n",
       "</style>\n",
       "<table border=\"1\" class=\"dataframe\">\n",
       "  <thead>\n",
       "    <tr style=\"text-align: right;\">\n",
       "      <th></th>\n",
       "      <th>prior</th>\n",
       "      <th>likelihood</th>\n",
       "    </tr>\n",
       "  </thead>\n",
       "  <tbody>\n",
       "    <tr>\n",
       "      <th>6</th>\n",
       "      <td>1/3</td>\n",
       "      <td>1/6</td>\n",
       "    </tr>\n",
       "    <tr>\n",
       "      <th>8</th>\n",
       "      <td>1/3</td>\n",
       "      <td>1/8</td>\n",
       "    </tr>\n",
       "    <tr>\n",
       "      <th>12</th>\n",
       "      <td>1/3</td>\n",
       "      <td>1/12</td>\n",
       "    </tr>\n",
       "  </tbody>\n",
       "</table>\n",
       "</div>"
      ],
      "text/plain": [
       "   prior likelihood\n",
       "6    1/3        1/6\n",
       "8    1/3        1/8\n",
       "12   1/3       1/12"
      ]
     },
     "execution_count": 15,
     "metadata": {},
     "output_type": "execute_result"
    }
   ],
   "source": [
    "# P(H) is our prior, probability of seeing of the hypothesis before seeing the data\n",
    "dice_table[\"prior\"] = Fraction(1, 3)\n",
    "\n",
    "dice_table[\"likelihood\"] = Fraction(1, 6), Fraction(1, 8), Fraction(1, 12)\n",
    "dice_table"
   ]
  },
  {
   "cell_type": "code",
   "execution_count": 16,
   "id": "533bd348",
   "metadata": {},
   "outputs": [],
   "source": [
    "def update(table):\n",
    "    \"\"\"Compute the posterior probabilities\"\"\"\n",
    "    table[\"unnorm\"] = table.prior * table.likelihood\n",
    "    prob_data = table.unnorm.sum()\n",
    "    table[\"posterior\"] = table.unnorm / prob_data\n",
    "    return prob_data"
   ]
  },
  {
   "cell_type": "code",
   "execution_count": 17,
   "id": "f4a55a50",
   "metadata": {},
   "outputs": [],
   "source": [
    "prob_data = update(dice_table)"
   ]
  },
  {
   "cell_type": "code",
   "execution_count": 18,
   "id": "eee0bd24",
   "metadata": {
    "scrolled": true
   },
   "outputs": [
    {
     "data": {
      "text/html": [
       "<div>\n",
       "<style scoped>\n",
       "    .dataframe tbody tr th:only-of-type {\n",
       "        vertical-align: middle;\n",
       "    }\n",
       "\n",
       "    .dataframe tbody tr th {\n",
       "        vertical-align: top;\n",
       "    }\n",
       "\n",
       "    .dataframe thead th {\n",
       "        text-align: right;\n",
       "    }\n",
       "</style>\n",
       "<table border=\"1\" class=\"dataframe\">\n",
       "  <thead>\n",
       "    <tr style=\"text-align: right;\">\n",
       "      <th></th>\n",
       "      <th>prior</th>\n",
       "      <th>likelihood</th>\n",
       "      <th>unnorm</th>\n",
       "      <th>posterior</th>\n",
       "    </tr>\n",
       "  </thead>\n",
       "  <tbody>\n",
       "    <tr>\n",
       "      <th>6</th>\n",
       "      <td>1/3</td>\n",
       "      <td>1/6</td>\n",
       "      <td>1/18</td>\n",
       "      <td>4/9</td>\n",
       "    </tr>\n",
       "    <tr>\n",
       "      <th>8</th>\n",
       "      <td>1/3</td>\n",
       "      <td>1/8</td>\n",
       "      <td>1/24</td>\n",
       "      <td>1/3</td>\n",
       "    </tr>\n",
       "    <tr>\n",
       "      <th>12</th>\n",
       "      <td>1/3</td>\n",
       "      <td>1/12</td>\n",
       "      <td>1/36</td>\n",
       "      <td>2/9</td>\n",
       "    </tr>\n",
       "  </tbody>\n",
       "</table>\n",
       "</div>"
      ],
      "text/plain": [
       "   prior likelihood unnorm posterior\n",
       "6    1/3        1/6   1/18       4/9\n",
       "8    1/3        1/8   1/24       1/3\n",
       "12   1/3       1/12   1/36       2/9"
      ]
     },
     "execution_count": 18,
     "metadata": {},
     "output_type": "execute_result"
    }
   ],
   "source": [
    "dice_table"
   ]
  },
  {
   "cell_type": "markdown",
   "id": "6a5df9c7",
   "metadata": {},
   "source": [
    "- P(1 on the d6 | we roll a one on one of 3 dice d6, d8,d12) = 4/9\n",
    "- P(1 on the d8 | we roll a one on one of 3 dice d6, d8,d12 = 1/3\n",
    "- P(1 on the d12 | we roll a one on one of 3 dice d6, d8,d12) = 2/9"
   ]
  },
  {
   "cell_type": "markdown",
   "id": "39b8d3af",
   "metadata": {},
   "source": [
    "## Monte Hall Problem\n",
    "\n",
    "#### Introduction\n",
    "- The host, Monte Hall, shows us 3 closed doors 1, 2, and 3. There's a prize behind each door.\n",
    "- One perize is valuable like a car adn the other two are less valuable like goats\n",
    "- The object of the game is to guess the door w/ the most valuabe prize. If you guess correctly, you keep it.\n",
    "\n",
    "\n",
    "#### Game Setup\n",
    "To answer this question, we have to make some assumptions about the behavior of the host:\n",
    "\n",
    "Monty always opens a door and offers you the option to switch.\n",
    "\n",
    "He never opens the door you picked or the door with the car.\n",
    "\n",
    "If you choose the door with the car, he chooses one of the other doors at random."
   ]
  },
  {
   "cell_type": "code",
   "execution_count": 20,
   "id": "ffad2347",
   "metadata": {},
   "outputs": [
    {
     "data": {
      "text/html": [
       "<div>\n",
       "<style scoped>\n",
       "    .dataframe tbody tr th:only-of-type {\n",
       "        vertical-align: middle;\n",
       "    }\n",
       "\n",
       "    .dataframe tbody tr th {\n",
       "        vertical-align: top;\n",
       "    }\n",
       "\n",
       "    .dataframe thead th {\n",
       "        text-align: right;\n",
       "    }\n",
       "</style>\n",
       "<table border=\"1\" class=\"dataframe\">\n",
       "  <thead>\n",
       "    <tr style=\"text-align: right;\">\n",
       "      <th></th>\n",
       "      <th>prior</th>\n",
       "    </tr>\n",
       "  </thead>\n",
       "  <tbody>\n",
       "    <tr>\n",
       "      <th>Door 1</th>\n",
       "      <td>1/3</td>\n",
       "    </tr>\n",
       "    <tr>\n",
       "      <th>Door 2</th>\n",
       "      <td>1/3</td>\n",
       "    </tr>\n",
       "    <tr>\n",
       "      <th>Door 3</th>\n",
       "      <td>1/3</td>\n",
       "    </tr>\n",
       "  </tbody>\n",
       "</table>\n",
       "</div>"
      ],
      "text/plain": [
       "       prior\n",
       "Door 1   1/3\n",
       "Door 2   1/3\n",
       "Door 3   1/3"
      ]
     },
     "execution_count": 20,
     "metadata": {},
     "output_type": "execute_result"
    }
   ],
   "source": [
    "monte = pd.DataFrame(index=[\"Door 1\", \"Door 2\", \"Door 3\"])\n",
    "\n",
    "monte[\"prior\"] = Fraction(1, 3)\n",
    "monte"
   ]
  },
  {
   "cell_type": "markdown",
   "id": "45635363",
   "metadata": {},
   "source": [
    "The data is that Monty opened Door 3 and revealed a goat. So let’s consider the probability of the data under each hypothesis:\n",
    "\n",
    "If the car is behind Door 1, Monty chooses Door 2 or 3 at random, so the probability he opens Door 3 is 1/2.\n",
    "\n",
    "If the car is behind Door 2, Monty has to open Door 3, so the probability of the data under this hypothesis is 1.\n",
    "\n",
    "If the car is behind Door 3, Monty does not open it, so the probability of the data under this hypothesis is 0.\n",
    "\n"
   ]
  },
  {
   "cell_type": "code",
   "execution_count": 21,
   "id": "c31df3b0",
   "metadata": {},
   "outputs": [
    {
     "data": {
      "text/html": [
       "<div>\n",
       "<style scoped>\n",
       "    .dataframe tbody tr th:only-of-type {\n",
       "        vertical-align: middle;\n",
       "    }\n",
       "\n",
       "    .dataframe tbody tr th {\n",
       "        vertical-align: top;\n",
       "    }\n",
       "\n",
       "    .dataframe thead th {\n",
       "        text-align: right;\n",
       "    }\n",
       "</style>\n",
       "<table border=\"1\" class=\"dataframe\">\n",
       "  <thead>\n",
       "    <tr style=\"text-align: right;\">\n",
       "      <th></th>\n",
       "      <th>prior</th>\n",
       "      <th>likelihood</th>\n",
       "    </tr>\n",
       "  </thead>\n",
       "  <tbody>\n",
       "    <tr>\n",
       "      <th>Door 1</th>\n",
       "      <td>1/3</td>\n",
       "      <td>1/2</td>\n",
       "    </tr>\n",
       "    <tr>\n",
       "      <th>Door 2</th>\n",
       "      <td>1/3</td>\n",
       "      <td>1</td>\n",
       "    </tr>\n",
       "    <tr>\n",
       "      <th>Door 3</th>\n",
       "      <td>1/3</td>\n",
       "      <td>0</td>\n",
       "    </tr>\n",
       "  </tbody>\n",
       "</table>\n",
       "</div>"
      ],
      "text/plain": [
       "       prior likelihood\n",
       "Door 1   1/3        1/2\n",
       "Door 2   1/3          1\n",
       "Door 3   1/3          0"
      ]
     },
     "execution_count": 21,
     "metadata": {},
     "output_type": "execute_result"
    }
   ],
   "source": [
    "monte[\"likelihood\"] = Fraction(1, 2), 1, 0\n",
    "monte"
   ]
  },
  {
   "cell_type": "code",
   "execution_count": 22,
   "id": "5040496b",
   "metadata": {},
   "outputs": [
    {
     "data": {
      "text/plain": [
       "Fraction(1, 2)"
      ]
     },
     "execution_count": 22,
     "metadata": {},
     "output_type": "execute_result"
    }
   ],
   "source": [
    "update(monte)"
   ]
  },
  {
   "cell_type": "code",
   "execution_count": 23,
   "id": "a9016b62",
   "metadata": {},
   "outputs": [
    {
     "data": {
      "text/html": [
       "<div>\n",
       "<style scoped>\n",
       "    .dataframe tbody tr th:only-of-type {\n",
       "        vertical-align: middle;\n",
       "    }\n",
       "\n",
       "    .dataframe tbody tr th {\n",
       "        vertical-align: top;\n",
       "    }\n",
       "\n",
       "    .dataframe thead th {\n",
       "        text-align: right;\n",
       "    }\n",
       "</style>\n",
       "<table border=\"1\" class=\"dataframe\">\n",
       "  <thead>\n",
       "    <tr style=\"text-align: right;\">\n",
       "      <th></th>\n",
       "      <th>prior</th>\n",
       "      <th>likelihood</th>\n",
       "      <th>unnorm</th>\n",
       "      <th>posterior</th>\n",
       "    </tr>\n",
       "  </thead>\n",
       "  <tbody>\n",
       "    <tr>\n",
       "      <th>Door 1</th>\n",
       "      <td>1/3</td>\n",
       "      <td>1/2</td>\n",
       "      <td>1/6</td>\n",
       "      <td>1/3</td>\n",
       "    </tr>\n",
       "    <tr>\n",
       "      <th>Door 2</th>\n",
       "      <td>1/3</td>\n",
       "      <td>1</td>\n",
       "      <td>1/3</td>\n",
       "      <td>2/3</td>\n",
       "    </tr>\n",
       "    <tr>\n",
       "      <th>Door 3</th>\n",
       "      <td>1/3</td>\n",
       "      <td>0</td>\n",
       "      <td>0</td>\n",
       "      <td>0</td>\n",
       "    </tr>\n",
       "  </tbody>\n",
       "</table>\n",
       "</div>"
      ],
      "text/plain": [
       "       prior likelihood unnorm posterior\n",
       "Door 1   1/3        1/2    1/6       1/3\n",
       "Door 2   1/3          1    1/3       2/3\n",
       "Door 3   1/3          0      0         0"
      ]
     },
     "execution_count": 23,
     "metadata": {},
     "output_type": "execute_result"
    }
   ],
   "source": [
    "monte"
   ]
  },
  {
   "cell_type": "markdown",
   "id": "00e6c99b",
   "metadata": {},
   "source": [
    "As this example shows, our intuition for probability is not always reliable. Bayes’s Theorem can help by providing a divide-and-conquer strategy:\n",
    "\n",
    "1. First, write down the hypotheses and the data.\n",
    "\n",
    "2. Next, figure out the prior probabilities.\n",
    "\n",
    "3. Finally, compute the likelihood of the data under each hypothesis.\n",
    "\n",
    "_The Bayes table does the rest._"
   ]
  },
  {
   "cell_type": "markdown",
   "id": "ee7df893",
   "metadata": {},
   "source": [
    "## Exercise 1\n",
    "\n",
    "> Suppose you have two coins in a box. One is a normal coin with heads on one side and tails on the other, and one is a trick coin with heads on both sides. You choose a coin at random and see that one of the sides is heads. What is the probability that you chose the trick coin?\n",
    "\n",
    "\n"
   ]
  },
  {
   "cell_type": "code",
   "execution_count": 24,
   "id": "aebd8a7b",
   "metadata": {},
   "outputs": [
    {
     "data": {
      "text/plain": [
       "Fraction(3, 4)"
      ]
     },
     "execution_count": 24,
     "metadata": {},
     "output_type": "execute_result"
    }
   ],
   "source": [
    "coinbox = pd.DataFrame(index=[\"Fair Coin\", \"Trick Coin\"])\n",
    "coinbox[\"prior\"] = Fraction(1, 2), Fraction(1, 2)\n",
    "coinbox[\"likelihood\"] = Fraction(1, 2), 1\n",
    "update(coinbox)"
   ]
  },
  {
   "cell_type": "code",
   "execution_count": 25,
   "id": "4a307dbf",
   "metadata": {},
   "outputs": [
    {
     "data": {
      "text/html": [
       "<div>\n",
       "<style scoped>\n",
       "    .dataframe tbody tr th:only-of-type {\n",
       "        vertical-align: middle;\n",
       "    }\n",
       "\n",
       "    .dataframe tbody tr th {\n",
       "        vertical-align: top;\n",
       "    }\n",
       "\n",
       "    .dataframe thead th {\n",
       "        text-align: right;\n",
       "    }\n",
       "</style>\n",
       "<table border=\"1\" class=\"dataframe\">\n",
       "  <thead>\n",
       "    <tr style=\"text-align: right;\">\n",
       "      <th></th>\n",
       "      <th>prior</th>\n",
       "      <th>likelihood</th>\n",
       "      <th>unnorm</th>\n",
       "      <th>posterior</th>\n",
       "    </tr>\n",
       "  </thead>\n",
       "  <tbody>\n",
       "    <tr>\n",
       "      <th>Fair Coin</th>\n",
       "      <td>1/2</td>\n",
       "      <td>1/2</td>\n",
       "      <td>1/4</td>\n",
       "      <td>1/3</td>\n",
       "    </tr>\n",
       "    <tr>\n",
       "      <th>Trick Coin</th>\n",
       "      <td>1/2</td>\n",
       "      <td>1</td>\n",
       "      <td>1/2</td>\n",
       "      <td>2/3</td>\n",
       "    </tr>\n",
       "  </tbody>\n",
       "</table>\n",
       "</div>"
      ],
      "text/plain": [
       "           prior likelihood unnorm posterior\n",
       "Fair Coin    1/2        1/2    1/4       1/3\n",
       "Trick Coin   1/2          1    1/2       2/3"
      ]
     },
     "execution_count": 25,
     "metadata": {},
     "output_type": "execute_result"
    }
   ],
   "source": [
    "coinbox"
   ]
  },
  {
   "cell_type": "markdown",
   "id": "6ed72ff5",
   "metadata": {},
   "source": [
    "## Exercise 2\n",
    "\n",
    "> Suppose you meet someone and learn that they have two children. You ask if either child is a girl and they say yes. What is the probability that both children are girls?\n",
    "\n",
    "Hint: Start with four equally likely hypotheses."
   ]
  },
  {
   "cell_type": "code",
   "execution_count": 29,
   "id": "6988ffba",
   "metadata": {},
   "outputs": [
    {
     "data": {
      "text/plain": [
       "Fraction(3, 4)"
      ]
     },
     "execution_count": 29,
     "metadata": {},
     "output_type": "execute_result"
    }
   ],
   "source": [
    "# prior = 2 offspring\n",
    "offspring = pd.DataFrame(index=[\"Girl, Girl\", \"Girl, Boy\", \"Boy, Girl\", \"Boy, Boy\"])\n",
    "offspring[\"prior\"] = Fraction(1, 4)\n",
    "offspring[\"likelihood\"] = 1, 1, 1, 0\n",
    "update(offspring)"
   ]
  },
  {
   "cell_type": "code",
   "execution_count": 30,
   "id": "934e6a4c",
   "metadata": {},
   "outputs": [
    {
     "data": {
      "text/html": [
       "<div>\n",
       "<style scoped>\n",
       "    .dataframe tbody tr th:only-of-type {\n",
       "        vertical-align: middle;\n",
       "    }\n",
       "\n",
       "    .dataframe tbody tr th {\n",
       "        vertical-align: top;\n",
       "    }\n",
       "\n",
       "    .dataframe thead th {\n",
       "        text-align: right;\n",
       "    }\n",
       "</style>\n",
       "<table border=\"1\" class=\"dataframe\">\n",
       "  <thead>\n",
       "    <tr style=\"text-align: right;\">\n",
       "      <th></th>\n",
       "      <th>prior</th>\n",
       "      <th>likelihood</th>\n",
       "      <th>unnorm</th>\n",
       "      <th>posterior</th>\n",
       "    </tr>\n",
       "  </thead>\n",
       "  <tbody>\n",
       "    <tr>\n",
       "      <th>Girl, Girl</th>\n",
       "      <td>1/4</td>\n",
       "      <td>1</td>\n",
       "      <td>1/4</td>\n",
       "      <td>1/3</td>\n",
       "    </tr>\n",
       "    <tr>\n",
       "      <th>Girl, Boy</th>\n",
       "      <td>1/4</td>\n",
       "      <td>1</td>\n",
       "      <td>1/4</td>\n",
       "      <td>1/3</td>\n",
       "    </tr>\n",
       "    <tr>\n",
       "      <th>Boy, Girl</th>\n",
       "      <td>1/4</td>\n",
       "      <td>1</td>\n",
       "      <td>1/4</td>\n",
       "      <td>1/3</td>\n",
       "    </tr>\n",
       "    <tr>\n",
       "      <th>Boy, Boy</th>\n",
       "      <td>1/4</td>\n",
       "      <td>0</td>\n",
       "      <td>0</td>\n",
       "      <td>0</td>\n",
       "    </tr>\n",
       "  </tbody>\n",
       "</table>\n",
       "</div>"
      ],
      "text/plain": [
       "           prior  likelihood unnorm posterior\n",
       "Girl, Girl   1/4           1    1/4       1/3\n",
       "Girl, Boy    1/4           1    1/4       1/3\n",
       "Boy, Girl    1/4           1    1/4       1/3\n",
       "Boy, Boy     1/4           0      0         0"
      ]
     },
     "execution_count": 30,
     "metadata": {},
     "output_type": "execute_result"
    }
   ],
   "source": [
    "offspring"
   ]
  },
  {
   "cell_type": "markdown",
   "id": "5fac046a",
   "metadata": {},
   "source": [
    "## Exercise 3\n",
    "> There are many variations of the Monty Hall problem.\n",
    "For example, suppose Monty always chooses Door 2 if he can, and only chooses Door 3 if he has to (because the car is behind Door 2).\n",
    "\n",
    "> If you choose Door 1 and Monty opens Door 2, what is the probability the car is behind Door 3?\n",
    "\n",
    "> If you choose Door 1 and Monty opens Door 3, what is the probability the car is behind Door 2?\n",
    "\n",
    "\n",
    "\n"
   ]
  },
  {
   "cell_type": "code",
   "execution_count": 32,
   "id": "dfe36a7f",
   "metadata": {},
   "outputs": [
    {
     "data": {
      "text/plain": [
       "Fraction(2, 3)"
      ]
     },
     "execution_count": 32,
     "metadata": {},
     "output_type": "execute_result"
    }
   ],
   "source": [
    "# If car is Door 1, Monte will pick Door 2\n",
    "# If the car is behind Door 2, Monte will pick door 3\n",
    "# If the car is behind Door 3, Monte will always open door 2\n",
    "monte2 = pd.DataFrame(index=[\"Door 1\", \"Door 2\", \"Door 3\"])\n",
    "monte2[\"prior\"] = Fraction(1, 3)\n",
    "monte2[\"likelihood\"] = 1, 0, 1\n",
    "update(monte2)"
   ]
  },
  {
   "cell_type": "code",
   "execution_count": 33,
   "id": "cd9ea1a7",
   "metadata": {},
   "outputs": [
    {
     "data": {
      "text/html": [
       "<div>\n",
       "<style scoped>\n",
       "    .dataframe tbody tr th:only-of-type {\n",
       "        vertical-align: middle;\n",
       "    }\n",
       "\n",
       "    .dataframe tbody tr th {\n",
       "        vertical-align: top;\n",
       "    }\n",
       "\n",
       "    .dataframe thead th {\n",
       "        text-align: right;\n",
       "    }\n",
       "</style>\n",
       "<table border=\"1\" class=\"dataframe\">\n",
       "  <thead>\n",
       "    <tr style=\"text-align: right;\">\n",
       "      <th></th>\n",
       "      <th>prior</th>\n",
       "      <th>likelihood</th>\n",
       "      <th>unnorm</th>\n",
       "      <th>posterior</th>\n",
       "    </tr>\n",
       "  </thead>\n",
       "  <tbody>\n",
       "    <tr>\n",
       "      <th>Door 1</th>\n",
       "      <td>1/3</td>\n",
       "      <td>1</td>\n",
       "      <td>1/3</td>\n",
       "      <td>1/2</td>\n",
       "    </tr>\n",
       "    <tr>\n",
       "      <th>Door 2</th>\n",
       "      <td>1/3</td>\n",
       "      <td>0</td>\n",
       "      <td>0</td>\n",
       "      <td>0</td>\n",
       "    </tr>\n",
       "    <tr>\n",
       "      <th>Door 3</th>\n",
       "      <td>1/3</td>\n",
       "      <td>1</td>\n",
       "      <td>1/3</td>\n",
       "      <td>1/2</td>\n",
       "    </tr>\n",
       "  </tbody>\n",
       "</table>\n",
       "</div>"
      ],
      "text/plain": [
       "       prior  likelihood unnorm posterior\n",
       "Door 1   1/3           1    1/3       1/2\n",
       "Door 2   1/3           0      0         0\n",
       "Door 3   1/3           1    1/3       1/2"
      ]
     },
     "execution_count": 33,
     "metadata": {},
     "output_type": "execute_result"
    }
   ],
   "source": [
    "monte2"
   ]
  },
  {
   "cell_type": "markdown",
   "id": "36b4fb1a",
   "metadata": {},
   "source": [
    "## Exercise 4\n",
    "> M&M’s are small candy-coated chocolates that come in a variety of colors.\n",
    "Mars, Inc., which makes M&M’s, changes the mixture of colors from time to time. In 1995, they introduced blue M&M’s.\n",
    "\n",
    "- In 1994, the color mix in a bag of plain M&M’s was 30% Brown, 20% Yellow, 20% Red, 10% Green, 10% Orange, 10% Tan.\n",
    "\n",
    "- In 1996, it was 24% Blue , 20% Green, 16% Orange, 14% Yellow, 13% Red, 13% Brown\n",
    "\n",
    "> Suppose a friend of mine has two bags of M&M’s, and he tells me that one is from 1994 and one from 1996. He won’t tell me which is which, but he gives me one M&M from each bag. One is yellow and one is green. What is the probability that the yellow one came from the 1994 bag?\n",
    "\n",
    "_Hint: The trick to this question is to define the hypotheses and the data carefully._\n",
    "\n"
   ]
  },
  {
   "cell_type": "code",
   "execution_count": 39,
   "id": "5e599c83",
   "metadata": {},
   "outputs": [
    {
     "data": {
      "text/plain": [
       "0.027000000000000003"
      ]
     },
     "execution_count": 39,
     "metadata": {},
     "output_type": "execute_result"
    }
   ],
   "source": [
    "# A: yellow from 94, green from 96\n",
    "# B: yellow from 96, green from 94\n",
    "\n",
    "candy = pd.DataFrame(index=[\"Yellow94, Green96\", \"Yellow96, Green94\"])\n",
    "candy[\"prior\"] = Fraction(1, 2)\n",
    "\n",
    "# .2*.2 is p(1994 yellow) * p(1996 green)\n",
    "# .14 * .1 is p(1994 green) * p(1996 yellow)\n",
    "candy[\"likelihood\"] = 0.2 * 0.2, 0.14*0.1\n",
    "update(candy)"
   ]
  },
  {
   "cell_type": "code",
   "execution_count": 40,
   "id": "dc779159",
   "metadata": {},
   "outputs": [
    {
     "data": {
      "text/html": [
       "<div>\n",
       "<style scoped>\n",
       "    .dataframe tbody tr th:only-of-type {\n",
       "        vertical-align: middle;\n",
       "    }\n",
       "\n",
       "    .dataframe tbody tr th {\n",
       "        vertical-align: top;\n",
       "    }\n",
       "\n",
       "    .dataframe thead th {\n",
       "        text-align: right;\n",
       "    }\n",
       "</style>\n",
       "<table border=\"1\" class=\"dataframe\">\n",
       "  <thead>\n",
       "    <tr style=\"text-align: right;\">\n",
       "      <th></th>\n",
       "      <th>prior</th>\n",
       "      <th>likelihood</th>\n",
       "      <th>unnorm</th>\n",
       "      <th>posterior</th>\n",
       "    </tr>\n",
       "  </thead>\n",
       "  <tbody>\n",
       "    <tr>\n",
       "      <th>Yellow94, Green96</th>\n",
       "      <td>1/2</td>\n",
       "      <td>0.040</td>\n",
       "      <td>0.02</td>\n",
       "      <td>0.740741</td>\n",
       "    </tr>\n",
       "    <tr>\n",
       "      <th>Yellow96, Green94</th>\n",
       "      <td>1/2</td>\n",
       "      <td>0.014</td>\n",
       "      <td>0.007</td>\n",
       "      <td>0.259259</td>\n",
       "    </tr>\n",
       "  </tbody>\n",
       "</table>\n",
       "</div>"
      ],
      "text/plain": [
       "                  prior  likelihood unnorm posterior\n",
       "Yellow94, Green96   1/2       0.040   0.02  0.740741\n",
       "Yellow96, Green94   1/2       0.014  0.007  0.259259"
      ]
     },
     "execution_count": 40,
     "metadata": {},
     "output_type": "execute_result"
    }
   ],
   "source": [
    "candy"
   ]
  },
  {
   "cell_type": "code",
   "execution_count": null,
   "id": "46a7edaa",
   "metadata": {},
   "outputs": [],
   "source": []
  }
 ],
 "metadata": {
  "kernelspec": {
   "display_name": "Python 3 (ipykernel)",
   "language": "python",
   "name": "python3"
  },
  "language_info": {
   "codemirror_mode": {
    "name": "ipython",
    "version": 3
   },
   "file_extension": ".py",
   "mimetype": "text/x-python",
   "name": "python",
   "nbconvert_exporter": "python",
   "pygments_lexer": "ipython3",
   "version": "3.9.12"
  }
 },
 "nbformat": 4,
 "nbformat_minor": 5
}
