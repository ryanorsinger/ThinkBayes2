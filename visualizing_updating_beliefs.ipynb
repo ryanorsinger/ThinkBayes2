{
 "cells": [
  {
   "cell_type": "markdown",
   "id": "91f05857",
   "metadata": {},
   "source": [
    "# Updating our beliefs over time with new data \n",
    "\n",
    "- An animation visualizing how the PMF changes with each successive new piece of data\n",
    "- Estimating probabilities as new information comes in\n",
    "\n",
    "# Time to Play!\n",
    "\n",
    "## Let's Animate This to Demonstrate The Issue Further!\n",
    "> Visualizing the PMF transition from the original prior to a player hitting 100 balls in a row.\n",
    "\n",
    "Notice hos our estimation of probability changes the more data we get that the player is not conforming to the prior\n",
    "\n",
    "#### Process\n",
    "- Begin with the prior's PMF named `prior`\\\n",
    "- Beginning each frame, assign a new posterior for each \"hit\" `posterior = prior.copy()`\n",
    "- Each animation frame should be the following for-loop and visualization\n",
    "- Each new animation frame for `n` is the animation frame for the n-th number of hit in a row.\n",
    "\n",
    "```\n",
    "for data in 'Y' * n:\n",
    "    posterior *= likelihood[data]\n",
    "\n",
    "posterior.normalize()\n",
    "\n",
    "prior.plot(label=\"prior\")\n",
    "posterior.plot(label=\"posterior\")\n",
    "plt.xlabel(\"Probability of getting a hit\")\n",
    "plt.ylabel(\"PMF\")\n",
    "plt.legend();\n",
    "```"
   ]
  },
  {
   "cell_type": "code",
   "execution_count": null,
   "id": "a5814029",
   "metadata": {},
   "outputs": [],
   "source": [
    "# Implement with matplotlib first then move to playing with plotly\n",
    "from matplotlib.animation import FuncAnimation\n",
    "from matplotlib import animation\n",
    "\n",
    "%matplotlib notebook"
   ]
  },
  {
   "cell_type": "code",
   "execution_count": null,
   "id": "ebd31683",
   "metadata": {},
   "outputs": [],
   "source": [
    "# First set up the figure, the axis, and the plot element we want to animate\n",
    "# fig = plt.figure(figsize=(12, 9))\n",
    "fig = plt.figure()\n",
    "\n",
    "ax = plt.axes(xlim=(0, 1), ylim=(0, 0.05))\n",
    "line, = ax.plot([], [], lw=2)\n",
    "\n",
    "# initialization function: plot the background of each frame\n",
    "def init():\n",
    "    # Need to replicate this next line to show the prior distribution\n",
    "    # prior.plot(label=\"prior\")\n",
    "#     hypos = np.linspace(0.1, 0.4, 101)\n",
    "#     prior = Pmf(1, hypos)\n",
    "    \n",
    "#     line.set_data(prior.index, prior.values)\n",
    "    \n",
    "    line.set_data([], []) # was the original jig\n",
    "    return line,\n",
    "\n",
    "# animation function.  This is called sequentially\n",
    "def animate(i):\n",
    "\n",
    "    posterior = prior.copy()\n",
    "    \n",
    "    for data in 'Y' * i:\n",
    "        posterior *= likelihood[data]\n",
    "\n",
    "    posterior.normalize()\n",
    "    \n",
    "#     x = posterior.index\n",
    "#     y = posterior.values\n",
    "#     line.set_data(x, y)\n",
    "\n",
    "    line.set_data(posterior)\n",
    "    return line,\n",
    "\n",
    "\n",
    "# call the animator.  blit=True means only re-draw the parts that have changed.\n",
    "anim = animation.FuncAnimation(fig, animate, init_func=init,\n",
    "                                frames=100, interval=20, blit=True)\n",
    "\n",
    "anim.save('basic_animation.mp4', fps=30)\n",
    "\n",
    "plt.show()"
   ]
  },
  {
   "cell_type": "code",
   "execution_count": null,
   "id": "88abe62f",
   "metadata": {},
   "outputs": [],
   "source": [
    "class UpdateDist:\n",
    "    def __init__(self, ax):\n",
    "        # Initialize with n=1 hit\n",
    "        self.n = 1\n",
    "        \n",
    "        # Setup some prior\n",
    "        self.hypos = np.linspace(0.1, 0.4, 101)\n",
    "        self.prior = Pmf(1, hypos)\n",
    "        \n",
    "        # I think there's a better way of doing this without multiplying strings...\n",
    "        self.posterior = self.prior.copy()"
   ]
  }
 ],
 "metadata": {
  "kernelspec": {
   "display_name": "Python 3 (ipykernel)",
   "language": "python",
   "name": "python3"
  },
  "language_info": {
   "codemirror_mode": {
    "name": "ipython",
    "version": 3
   },
   "file_extension": ".py",
   "mimetype": "text/x-python",
   "name": "python",
   "nbconvert_exporter": "python",
   "pygments_lexer": "ipython3",
   "version": "3.9.12"
  }
 },
 "nbformat": 4,
 "nbformat_minor": 5
}
