{
 "cells": [
  {
   "cell_type": "code",
   "execution_count": 3,
   "id": "f70faaf7",
   "metadata": {},
   "outputs": [],
   "source": [
    "import pandas as pd"
   ]
  },
  {
   "cell_type": "code",
   "execution_count": 4,
   "id": "3c2a3e56",
   "metadata": {},
   "outputs": [
    {
     "data": {
      "text/html": [
       "<div>\n",
       "<style scoped>\n",
       "    .dataframe tbody tr th:only-of-type {\n",
       "        vertical-align: middle;\n",
       "    }\n",
       "\n",
       "    .dataframe tbody tr th {\n",
       "        vertical-align: top;\n",
       "    }\n",
       "\n",
       "    .dataframe thead th {\n",
       "        text-align: right;\n",
       "    }\n",
       "</style>\n",
       "<table border=\"1\" class=\"dataframe\">\n",
       "  <thead>\n",
       "    <tr style=\"text-align: right;\">\n",
       "      <th></th>\n",
       "      <th>caseid</th>\n",
       "      <th>year</th>\n",
       "      <th>age</th>\n",
       "      <th>sex</th>\n",
       "      <th>polviews</th>\n",
       "      <th>partyid</th>\n",
       "      <th>indus10</th>\n",
       "    </tr>\n",
       "  </thead>\n",
       "  <tbody>\n",
       "    <tr>\n",
       "      <th>0</th>\n",
       "      <td>1</td>\n",
       "      <td>1974</td>\n",
       "      <td>21.0</td>\n",
       "      <td>1</td>\n",
       "      <td>4.0</td>\n",
       "      <td>2.0</td>\n",
       "      <td>4970.0</td>\n",
       "    </tr>\n",
       "    <tr>\n",
       "      <th>1</th>\n",
       "      <td>2</td>\n",
       "      <td>1974</td>\n",
       "      <td>41.0</td>\n",
       "      <td>1</td>\n",
       "      <td>5.0</td>\n",
       "      <td>0.0</td>\n",
       "      <td>9160.0</td>\n",
       "    </tr>\n",
       "    <tr>\n",
       "      <th>2</th>\n",
       "      <td>5</td>\n",
       "      <td>1974</td>\n",
       "      <td>58.0</td>\n",
       "      <td>2</td>\n",
       "      <td>6.0</td>\n",
       "      <td>1.0</td>\n",
       "      <td>2670.0</td>\n",
       "    </tr>\n",
       "    <tr>\n",
       "      <th>3</th>\n",
       "      <td>6</td>\n",
       "      <td>1974</td>\n",
       "      <td>30.0</td>\n",
       "      <td>1</td>\n",
       "      <td>5.0</td>\n",
       "      <td>4.0</td>\n",
       "      <td>6870.0</td>\n",
       "    </tr>\n",
       "    <tr>\n",
       "      <th>4</th>\n",
       "      <td>7</td>\n",
       "      <td>1974</td>\n",
       "      <td>48.0</td>\n",
       "      <td>1</td>\n",
       "      <td>5.0</td>\n",
       "      <td>4.0</td>\n",
       "      <td>7860.0</td>\n",
       "    </tr>\n",
       "  </tbody>\n",
       "</table>\n",
       "</div>"
      ],
      "text/plain": [
       "   caseid  year   age  sex  polviews  partyid  indus10\n",
       "0       1  1974  21.0    1       4.0      2.0   4970.0\n",
       "1       2  1974  41.0    1       5.0      0.0   9160.0\n",
       "2       5  1974  58.0    2       6.0      1.0   2670.0\n",
       "3       6  1974  30.0    1       5.0      4.0   6870.0\n",
       "4       7  1974  48.0    1       5.0      4.0   7860.0"
      ]
     },
     "execution_count": 4,
     "metadata": {},
     "output_type": "execute_result"
    }
   ],
   "source": [
    "filename = 'https://github.com/AllenDowney/BiteSizeBayes/raw/master/gss_bayes.csv'\n",
    "df = pd.read_csv(filename)\n",
    "df.head()"
   ]
  },
  {
   "cell_type": "code",
   "execution_count": 5,
   "id": "76507c7f",
   "metadata": {},
   "outputs": [
    {
     "data": {
      "text/plain": [
       "0.014769730168391155"
      ]
     },
     "execution_count": 5,
     "metadata": {},
     "output_type": "execute_result"
    }
   ],
   "source": [
    "# Proportion of Bankers\n",
    "banker = df[\"indus10\"] == 6870\n",
    "banker.mean()"
   ]
  },
  {
   "cell_type": "code",
   "execution_count": 6,
   "id": "2fd3c639",
   "metadata": {},
   "outputs": [],
   "source": [
    "# Probability function \n",
    "def prob(A):\n",
    "    \"\"\"Accepts a series/array of booleans and returns the proportion of population that matches\"\"\"\n",
    "    return A.mean()"
   ]
  },
  {
   "cell_type": "code",
   "execution_count": 7,
   "id": "473b4a3d",
   "metadata": {},
   "outputs": [
    {
     "data": {
      "text/plain": [
       "0.014769730168391155"
      ]
     },
     "execution_count": 7,
     "metadata": {},
     "output_type": "execute_result"
    }
   ],
   "source": [
    "prob(banker)"
   ]
  },
  {
   "cell_type": "code",
   "execution_count": 8,
   "id": "dd4a4d33",
   "metadata": {},
   "outputs": [
    {
     "data": {
      "text/plain": [
       "0.5378575776019476"
      ]
     },
     "execution_count": 8,
     "metadata": {},
     "output_type": "execute_result"
    }
   ],
   "source": [
    "women = df.sex == 2\n",
    "prob(women)"
   ]
  },
  {
   "cell_type": "code",
   "execution_count": 9,
   "id": "39f79491",
   "metadata": {},
   "outputs": [
    {
     "data": {
      "text/plain": [
       "0.27374721038750255"
      ]
     },
     "execution_count": 9,
     "metadata": {},
     "output_type": "execute_result"
    }
   ],
   "source": [
    "liberal = df[\"polviews\"] <= 3\n",
    "prob(liberal)"
   ]
  },
  {
   "cell_type": "code",
   "execution_count": 13,
   "id": "d6d66f77",
   "metadata": {},
   "outputs": [
    {
     "data": {
      "text/plain": [
       "0.3662609048488537"
      ]
     },
     "execution_count": 13,
     "metadata": {},
     "output_type": "execute_result"
    }
   ],
   "source": [
    "democrat = df['partyid'] <= 1\n",
    "prob(democrat)"
   ]
  },
  {
   "cell_type": "markdown",
   "id": "69133305",
   "metadata": {},
   "source": [
    "## Conjunction\n",
    "- Conjunction == Logical AND"
   ]
  },
  {
   "cell_type": "code",
   "execution_count": 10,
   "id": "572a127a",
   "metadata": {},
   "outputs": [
    {
     "data": {
      "text/plain": [
       "0.002556299452221546"
      ]
     },
     "execution_count": 10,
     "metadata": {},
     "output_type": "execute_result"
    }
   ],
   "source": [
    "prob(banker & women & liberal)"
   ]
  },
  {
   "cell_type": "code",
   "execution_count": 11,
   "id": "2ab20726",
   "metadata": {},
   "outputs": [
    {
     "data": {
      "text/plain": [
       "True"
      ]
     },
     "execution_count": 11,
     "metadata": {},
     "output_type": "execute_result"
    }
   ],
   "source": [
    "# Conjunction is commutative b/c AND is commutative\n",
    "prob(banker & women) == prob(women & banker)"
   ]
  },
  {
   "cell_type": "markdown",
   "id": "6e2b088d",
   "metadata": {},
   "source": [
    "## Conditional Probability\n",
    "- What is the probability that a respondent is a democrat, given that they are liberal?\n",
    "- What is the prob(female) given that they are a banker?\n",
    "- What is the prob(banker) given that they are a woman?\n",
    "\n",
    "Let’s start with the first one, which we can interpret like this: “Of all the respondents who are liberal, what fraction are Democrats?”"
   ]
  },
  {
   "cell_type": "code",
   "execution_count": 14,
   "id": "8c9d6483",
   "metadata": {},
   "outputs": [
    {
     "data": {
      "text/plain": [
       "0.5206403320240125"
      ]
     },
     "execution_count": 14,
     "metadata": {},
     "output_type": "execute_result"
    }
   ],
   "source": [
    "selected = democrat[liberal]\n",
    "selected.mean()"
   ]
  },
  {
   "cell_type": "code",
   "execution_count": 18,
   "id": "5f98f3bd",
   "metadata": {},
   "outputs": [
    {
     "data": {
      "text/plain": [
       "0.7706043956043956"
      ]
     },
     "execution_count": 18,
     "metadata": {},
     "output_type": "execute_result"
    }
   ],
   "source": [
    "women[banker].mean()"
   ]
  },
  {
   "cell_type": "code",
   "execution_count": 22,
   "id": "ed32537b",
   "metadata": {},
   "outputs": [],
   "source": [
    "def conditional(proposition, given):\n",
    "    \"\"\"Probability of A conditioned on given.\"\"\"\n",
    "    return prob(proposition[given])"
   ]
  },
  {
   "cell_type": "code",
   "execution_count": 31,
   "id": "a53e1baf",
   "metadata": {},
   "outputs": [
    {
     "data": {
      "text/plain": [
       "2    0.770604\n",
       "1    0.229396\n",
       "Name: sex, dtype: float64"
      ]
     },
     "execution_count": 31,
     "metadata": {},
     "output_type": "execute_result"
    }
   ],
   "source": [
    "# Probability of someone being a woman given that they're a banker\n",
    "# Of the folks who are bankers, 77% are women\n",
    "df[banker].sex.value_counts(normalize=True)"
   ]
  },
  {
   "cell_type": "code",
   "execution_count": 24,
   "id": "08a2e0fb",
   "metadata": {},
   "outputs": [
    {
     "data": {
      "text/plain": [
       "0.7706043956043956"
      ]
     },
     "execution_count": 24,
     "metadata": {},
     "output_type": "execute_result"
    }
   ],
   "source": [
    "# Probability of someone being a woman given that they're a banker\n",
    "# Of the folks who are bankers, 77% are women\n",
    "conditional(women, given=banker)"
   ]
  },
  {
   "cell_type": "code",
   "execution_count": 23,
   "id": "9a0926f2",
   "metadata": {},
   "outputs": [
    {
     "data": {
      "text/plain": [
       "0.02116102749801969"
      ]
     },
     "execution_count": 23,
     "metadata": {},
     "output_type": "execute_result"
    }
   ],
   "source": [
    "# Probability of someone being a banker given that they're a woman\n",
    "# Of all women, 2% are bankers\n",
    "conditional(banker, given=women)"
   ]
  },
  {
   "cell_type": "code",
   "execution_count": 29,
   "id": "f1289a2c",
   "metadata": {},
   "outputs": [
    {
     "data": {
      "text/plain": [
       "0.02116102749801969"
      ]
     },
     "execution_count": 29,
     "metadata": {},
     "output_type": "execute_result"
    }
   ],
   "source": [
    "# Probability of someone being a banker, given that they're a woman\n",
    "# Of all women, what's the likelihood of being a banker?\n",
    "df[women].indus10.value_counts(normalize=True)[6870]"
   ]
  },
  {
   "cell_type": "code",
   "execution_count": 27,
   "id": "c573256f",
   "metadata": {},
   "outputs": [
    {
     "data": {
      "text/plain": [
       "False"
      ]
     },
     "execution_count": 27,
     "metadata": {},
     "output_type": "execute_result"
    }
   ],
   "source": [
    "# Contitional Probabilities AIN'T commutative!!!\n",
    "conditional(women, given=banker) == conditional(banker, given=women)"
   ]
  },
  {
   "cell_type": "code",
   "execution_count": null,
   "id": "e65ad113",
   "metadata": {},
   "outputs": [],
   "source": []
  }
 ],
 "metadata": {
  "kernelspec": {
   "display_name": "Python 3 (ipykernel)",
   "language": "python",
   "name": "python3"
  },
  "language_info": {
   "codemirror_mode": {
    "name": "ipython",
    "version": 3
   },
   "file_extension": ".py",
   "mimetype": "text/x-python",
   "name": "python",
   "nbconvert_exporter": "python",
   "pygments_lexer": "ipython3",
   "version": "3.8.12"
  }
 },
 "nbformat": 4,
 "nbformat_minor": 5
}
