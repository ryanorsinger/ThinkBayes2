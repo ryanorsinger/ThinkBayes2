{
 "cells": [
  {
   "cell_type": "code",
   "execution_count": 2,
   "id": "f70faaf7",
   "metadata": {},
   "outputs": [],
   "source": [
    "import pandas as pd"
   ]
  },
  {
   "cell_type": "code",
   "execution_count": 3,
   "id": "3c2a3e56",
   "metadata": {},
   "outputs": [
    {
     "data": {
      "text/html": [
       "<div>\n",
       "<style scoped>\n",
       "    .dataframe tbody tr th:only-of-type {\n",
       "        vertical-align: middle;\n",
       "    }\n",
       "\n",
       "    .dataframe tbody tr th {\n",
       "        vertical-align: top;\n",
       "    }\n",
       "\n",
       "    .dataframe thead th {\n",
       "        text-align: right;\n",
       "    }\n",
       "</style>\n",
       "<table border=\"1\" class=\"dataframe\">\n",
       "  <thead>\n",
       "    <tr style=\"text-align: right;\">\n",
       "      <th></th>\n",
       "      <th>caseid</th>\n",
       "      <th>year</th>\n",
       "      <th>age</th>\n",
       "      <th>sex</th>\n",
       "      <th>polviews</th>\n",
       "      <th>partyid</th>\n",
       "      <th>indus10</th>\n",
       "    </tr>\n",
       "  </thead>\n",
       "  <tbody>\n",
       "    <tr>\n",
       "      <th>0</th>\n",
       "      <td>1</td>\n",
       "      <td>1974</td>\n",
       "      <td>21.0</td>\n",
       "      <td>1</td>\n",
       "      <td>4.0</td>\n",
       "      <td>2.0</td>\n",
       "      <td>4970.0</td>\n",
       "    </tr>\n",
       "    <tr>\n",
       "      <th>1</th>\n",
       "      <td>2</td>\n",
       "      <td>1974</td>\n",
       "      <td>41.0</td>\n",
       "      <td>1</td>\n",
       "      <td>5.0</td>\n",
       "      <td>0.0</td>\n",
       "      <td>9160.0</td>\n",
       "    </tr>\n",
       "    <tr>\n",
       "      <th>2</th>\n",
       "      <td>5</td>\n",
       "      <td>1974</td>\n",
       "      <td>58.0</td>\n",
       "      <td>2</td>\n",
       "      <td>6.0</td>\n",
       "      <td>1.0</td>\n",
       "      <td>2670.0</td>\n",
       "    </tr>\n",
       "    <tr>\n",
       "      <th>3</th>\n",
       "      <td>6</td>\n",
       "      <td>1974</td>\n",
       "      <td>30.0</td>\n",
       "      <td>1</td>\n",
       "      <td>5.0</td>\n",
       "      <td>4.0</td>\n",
       "      <td>6870.0</td>\n",
       "    </tr>\n",
       "    <tr>\n",
       "      <th>4</th>\n",
       "      <td>7</td>\n",
       "      <td>1974</td>\n",
       "      <td>48.0</td>\n",
       "      <td>1</td>\n",
       "      <td>5.0</td>\n",
       "      <td>4.0</td>\n",
       "      <td>7860.0</td>\n",
       "    </tr>\n",
       "  </tbody>\n",
       "</table>\n",
       "</div>"
      ],
      "text/plain": [
       "   caseid  year   age  sex  polviews  partyid  indus10\n",
       "0       1  1974  21.0    1       4.0      2.0   4970.0\n",
       "1       2  1974  41.0    1       5.0      0.0   9160.0\n",
       "2       5  1974  58.0    2       6.0      1.0   2670.0\n",
       "3       6  1974  30.0    1       5.0      4.0   6870.0\n",
       "4       7  1974  48.0    1       5.0      4.0   7860.0"
      ]
     },
     "execution_count": 3,
     "metadata": {},
     "output_type": "execute_result"
    }
   ],
   "source": [
    "filename = 'gss_bayes.csv'\n",
    "df = pd.read_csv(filename)\n",
    "df.head()"
   ]
  },
  {
   "cell_type": "code",
   "execution_count": 8,
   "id": "76507c7f",
   "metadata": {},
   "outputs": [
    {
     "data": {
      "text/plain": [
       "0.015"
      ]
     },
     "execution_count": 8,
     "metadata": {},
     "output_type": "execute_result"
    }
   ],
   "source": [
    "# Proportion of Bankers, 6870 is the banker code\n",
    "banker = df[\"indus10\"] == 6870\n",
    "banker.mean().round(3)"
   ]
  },
  {
   "cell_type": "code",
   "execution_count": 9,
   "id": "2fd3c639",
   "metadata": {},
   "outputs": [],
   "source": [
    "# Probability function \n",
    "def prob(A):\n",
    "    \"\"\"Accepts a series/array of booleans and returns the proportion of population that matches\"\"\"\n",
    "    return A.mean()"
   ]
  },
  {
   "cell_type": "code",
   "execution_count": 10,
   "id": "473b4a3d",
   "metadata": {},
   "outputs": [
    {
     "data": {
      "text/plain": [
       "0.014769730168391155"
      ]
     },
     "execution_count": 10,
     "metadata": {},
     "output_type": "execute_result"
    }
   ],
   "source": [
    "prob(banker)"
   ]
  },
  {
   "cell_type": "code",
   "execution_count": 40,
   "id": "dd4a4d33",
   "metadata": {},
   "outputs": [
    {
     "data": {
      "text/plain": [
       "0.5378575776019476"
      ]
     },
     "execution_count": 40,
     "metadata": {},
     "output_type": "execute_result"
    }
   ],
   "source": [
    "# Probability of someone in this dataset being a woman\n",
    "female = women = df.sex == 2\n",
    "prob(women)"
   ]
  },
  {
   "cell_type": "code",
   "execution_count": 13,
   "id": "39f79491",
   "metadata": {},
   "outputs": [
    {
     "data": {
      "text/plain": [
       "0.27374721038750255"
      ]
     },
     "execution_count": 13,
     "metadata": {},
     "output_type": "execute_result"
    }
   ],
   "source": [
    "# Probability of being on the liberal side of things\n",
    "liberal = df[\"polviews\"] <= 3\n",
    "prob(liberal)"
   ]
  },
  {
   "cell_type": "code",
   "execution_count": 14,
   "id": "d6d66f77",
   "metadata": {},
   "outputs": [
    {
     "data": {
      "text/plain": [
       "0.3662609048488537"
      ]
     },
     "execution_count": 14,
     "metadata": {},
     "output_type": "execute_result"
    }
   ],
   "source": [
    "# Probility of being a democrat\n",
    "democrat = df['partyid'] <= 1\n",
    "prob(democrat)"
   ]
  },
  {
   "cell_type": "markdown",
   "id": "69133305",
   "metadata": {},
   "source": [
    "## Conjunction\n",
    "- Conjunction == Logical AND\n",
    "- p(a & b) == p(b & a)\n",
    "- Commutative"
   ]
  },
  {
   "cell_type": "code",
   "execution_count": 17,
   "id": "572a127a",
   "metadata": {},
   "outputs": [
    {
     "data": {
      "text/plain": [
       "0.002556299452221546"
      ]
     },
     "execution_count": 17,
     "metadata": {},
     "output_type": "execute_result"
    }
   ],
   "source": [
    "prob(banker & women & liberal)"
   ]
  },
  {
   "cell_type": "code",
   "execution_count": 18,
   "id": "2ab20726",
   "metadata": {},
   "outputs": [
    {
     "data": {
      "text/plain": [
       "True"
      ]
     },
     "execution_count": 18,
     "metadata": {},
     "output_type": "execute_result"
    }
   ],
   "source": [
    "# Conjunction is commutative b/c AND is commutative\n",
    "prob(banker & women) == prob(women & banker)"
   ]
  },
  {
   "cell_type": "markdown",
   "id": "6e2b088d",
   "metadata": {},
   "source": [
    "## Conditional Probability\n",
    "- What is the probability that a respondent is a democrat, given that they are liberal?\n",
    "- What is the prob(female) given that they are a banker?\n",
    "- What is the prob(banker) given that they are a woman?\n",
    "\n",
    "Let’s start with the first one, which we can interpret like this: “Of all the respondents who are liberal, what fraction are Democrats?”"
   ]
  },
  {
   "cell_type": "code",
   "execution_count": 19,
   "id": "8c9d6483",
   "metadata": {},
   "outputs": [
    {
     "data": {
      "text/plain": [
       "0.5206403320240125"
      ]
     },
     "execution_count": 19,
     "metadata": {},
     "output_type": "execute_result"
    }
   ],
   "source": [
    "selected = democrat[liberal]\n",
    "selected.mean()"
   ]
  },
  {
   "cell_type": "code",
   "execution_count": 20,
   "id": "5f98f3bd",
   "metadata": {},
   "outputs": [
    {
     "data": {
      "text/plain": [
       "0.7706043956043956"
      ]
     },
     "execution_count": 20,
     "metadata": {},
     "output_type": "execute_result"
    }
   ],
   "source": [
    "women[banker].mean()"
   ]
  },
  {
   "cell_type": "code",
   "execution_count": 21,
   "id": "ed32537b",
   "metadata": {},
   "outputs": [],
   "source": [
    "def conditional(proposition, given):\n",
    "    \"\"\"Probability of A conditioned on given.\"\"\"\n",
    "    return prob(proposition[given])"
   ]
  },
  {
   "cell_type": "code",
   "execution_count": 25,
   "id": "70e1d25c",
   "metadata": {},
   "outputs": [
    {
     "data": {
      "text/plain": [
       "0.1425238385067965"
      ]
     },
     "execution_count": 25,
     "metadata": {},
     "output_type": "execute_result"
    }
   ],
   "source": [
    "# Probability of being both a liberal and democrat\n",
    "prob(liberal & democrat)"
   ]
  },
  {
   "cell_type": "code",
   "execution_count": 23,
   "id": "6929afa5",
   "metadata": {},
   "outputs": [
    {
     "data": {
      "text/plain": [
       "0.3891320002215698"
      ]
     },
     "execution_count": 23,
     "metadata": {},
     "output_type": "execute_result"
    }
   ],
   "source": [
    "# Probability of being a liberal given we know that they're a democrat\n",
    "conditional(liberal, given=democrat)"
   ]
  },
  {
   "cell_type": "code",
   "execution_count": 26,
   "id": "ac346b24",
   "metadata": {},
   "outputs": [
    {
     "data": {
      "text/plain": [
       "0.5206403320240125"
      ]
     },
     "execution_count": 26,
     "metadata": {},
     "output_type": "execute_result"
    }
   ],
   "source": [
    "# Probability of being a democrat given we know that they're liberal\n",
    "conditional(democrat, given=liberal)"
   ]
  },
  {
   "cell_type": "code",
   "execution_count": 35,
   "id": "a53e1baf",
   "metadata": {},
   "outputs": [
    {
     "data": {
      "text/plain": [
       "2    0.770604\n",
       "1    0.229396\n",
       "Name: sex, dtype: float64"
      ]
     },
     "execution_count": 35,
     "metadata": {},
     "output_type": "execute_result"
    }
   ],
   "source": [
    "# Probability of someone being a woman given that they're a banker\n",
    "# Of the folks who are bankers, 77% are women\n",
    "df[banker].sex.value_counts(normalize=True)"
   ]
  },
  {
   "cell_type": "code",
   "execution_count": 30,
   "id": "08a2e0fb",
   "metadata": {},
   "outputs": [
    {
     "data": {
      "text/plain": [
       "0.7706043956043956"
      ]
     },
     "execution_count": 30,
     "metadata": {},
     "output_type": "execute_result"
    }
   ],
   "source": [
    "# Probability of someone being a woman given that they're a banker\n",
    "# Of the folks who are bankers, 77% are women\n",
    "conditional(women, given=banker)"
   ]
  },
  {
   "cell_type": "code",
   "execution_count": 31,
   "id": "9a0926f2",
   "metadata": {},
   "outputs": [
    {
     "data": {
      "text/plain": [
       "0.02116102749801969"
      ]
     },
     "execution_count": 31,
     "metadata": {},
     "output_type": "execute_result"
    }
   ],
   "source": [
    "# Probability of someone being a banker given that they're a woman\n",
    "# Of all women, 2% are bankers\n",
    "conditional(banker, given=women)"
   ]
  },
  {
   "cell_type": "code",
   "execution_count": 32,
   "id": "f1289a2c",
   "metadata": {},
   "outputs": [
    {
     "data": {
      "text/plain": [
       "0.02116102749801969"
      ]
     },
     "execution_count": 32,
     "metadata": {},
     "output_type": "execute_result"
    }
   ],
   "source": [
    "# Probability of someone being a banker, given that they're a woman\n",
    "# Of all women, what's the likelihood of being a banker?\n",
    "df[women].indus10.value_counts(normalize=True)[6870]"
   ]
  },
  {
   "cell_type": "code",
   "execution_count": 33,
   "id": "c573256f",
   "metadata": {},
   "outputs": [
    {
     "data": {
      "text/plain": [
       "False"
      ]
     },
     "execution_count": 33,
     "metadata": {},
     "output_type": "execute_result"
    }
   ],
   "source": [
    "# Contitional Probabilities AIN'T commutative!!!\n",
    "conditional(women, given=banker) == conditional(banker, given=women)"
   ]
  },
  {
   "cell_type": "markdown",
   "id": "30047572",
   "metadata": {},
   "source": [
    "### Condition and Conjunction\n"
   ]
  },
  {
   "cell_type": "code",
   "execution_count": 42,
   "id": "74061719",
   "metadata": {},
   "outputs": [
    {
     "data": {
      "text/plain": [
       "0.576085409252669"
      ]
     },
     "execution_count": 42,
     "metadata": {},
     "output_type": "execute_result"
    }
   ],
   "source": [
    "# probability of someone being a woman given that we know they're a liberal and a democrat\n",
    "conditional(female, given=liberal & democrat)"
   ]
  },
  {
   "cell_type": "code",
   "execution_count": 43,
   "id": "c9339d76",
   "metadata": {},
   "outputs": [
    {
     "data": {
      "text/plain": [
       "0.17307692307692307"
      ]
     },
     "execution_count": 43,
     "metadata": {},
     "output_type": "execute_result"
    }
   ],
   "source": [
    "conditional(liberal & female, given=banker)"
   ]
  },
  {
   "cell_type": "markdown",
   "id": "c55c3715",
   "metadata": {},
   "source": [
    "## Laws of Probability\n",
    "\n",
    "In the next few sections, we’ll derive three relationships between conjunction and conditional probability:\n",
    "\n",
    "- Theorem 1: Using a conjunction to compute a conditional probability.\n",
    "\n",
    "- Theorem 2: Using a conditional probability to compute a conjunction.\n",
    "\n",
    "- Theorem 3: Using `conditional(A, B)` to compute `conditional(B, A)`.\n",
    "\n",
    "<hr>\n",
    "\n",
    "- Theorum 1: $P(A)$ is the probability of proposition 𝐴.\n",
    "\n",
    "- Theorum 2: $P(A and B)$ is the probability of the conjunction of 𝐴 and 𝐵, that is, the probability that both are true.\n",
    "\n",
    "- Theorum 3: $P(A|B)$ is the conditional probability of 𝐴 given that 𝐵 is true. The vertical line between 𝐴 and 𝐵 is pronounced “given”."
   ]
  },
  {
   "cell_type": "markdown",
   "id": "76cfbb10",
   "metadata": {},
   "source": [
    "## Theorum 1: P(A) is the probability of proposition A (using a conjunction to compute conditional probability)\n",
    "\n",
    "There is another way to compute this conditional probability, by computing the ratio of two probabilities:\n",
    "\n",
    "- The fraction of respondents who are female bankers, and\n",
    "- The fraction of respondents who are bankers.\n",
    "\n",
    "$$P(A|B) = \\frac{P(A and B)}{ P(B)}$$\n"
   ]
  },
  {
   "cell_type": "code",
   "execution_count": 48,
   "id": "444848b2",
   "metadata": {},
   "outputs": [
    {
     "data": {
      "text/plain": [
       "0.7706043956043956"
      ]
     },
     "execution_count": 48,
     "metadata": {},
     "output_type": "execute_result"
    }
   ],
   "source": [
    "conditional(female, given=banker)"
   ]
  },
  {
   "cell_type": "code",
   "execution_count": 46,
   "id": "6b1d9f9f",
   "metadata": {},
   "outputs": [
    {
     "data": {
      "text/plain": [
       "0.7706043956043956"
      ]
     },
     "execution_count": 46,
     "metadata": {},
     "output_type": "execute_result"
    }
   ],
   "source": [
    "female[banker].mean()"
   ]
  },
  {
   "cell_type": "code",
   "execution_count": 51,
   "id": "ee2cbd04",
   "metadata": {},
   "outputs": [
    {
     "data": {
      "text/plain": [
       "0.7706043956043956"
      ]
     },
     "execution_count": 51,
     "metadata": {},
     "output_type": "execute_result"
    }
   ],
   "source": [
    "# Probability of being both female and a banker divided by the probability of being a banker\n",
    "# p(a & b) / p(b) = p(a|b)\n",
    "\n",
    "prob(female & banker) / prob(banker)"
   ]
  },
  {
   "cell_type": "markdown",
   "id": "73d991a9",
   "metadata": {},
   "source": [
    "## Theorum 2 \n",
    "- If we start with Theorem 1 and multiply both sides by 𝑃(𝐵), we get Theorem 2.\n",
    "- This formula suggests a second way to compute a conjunction: instead of using the & operator, we can compute the product of two probabilities.\n",
    "\n",
    "$$P(A and B) = P(B) * P(A|B)$$"
   ]
  },
  {
   "cell_type": "code",
   "execution_count": 52,
   "id": "52e136b3",
   "metadata": {},
   "outputs": [
    {
     "data": {
      "text/plain": [
       "0.1425238385067965"
      ]
     },
     "execution_count": 52,
     "metadata": {},
     "output_type": "execute_result"
    }
   ],
   "source": [
    "prob(liberal & democrat)"
   ]
  },
  {
   "cell_type": "code",
   "execution_count": 53,
   "id": "3f3298b9",
   "metadata": {},
   "outputs": [
    {
     "data": {
      "text/plain": [
       "0.1425238385067965"
      ]
     },
     "execution_count": 53,
     "metadata": {},
     "output_type": "execute_result"
    }
   ],
   "source": [
    "# And here’s the result using Theorem 2:\n",
    "\n",
    "prob(democrat) * conditional(liberal, given=democrat)"
   ]
  },
  {
   "cell_type": "markdown",
   "id": "b6aea0cd",
   "metadata": {},
   "source": [
    "## Theorum 3\n",
    "- Conjunction is commutative $P(A and B) = P(B and A)$\n",
    "- If we apply Theorem 2 to both sides, we have $𝑃(𝐵)𝑃(𝐴|𝐵)=𝑃(𝐴)𝑃(𝐵|𝐴)$\n",
    "- Then if we divicde through by P(B), we get Theorum 3, which is Bayes's Theorum!\n",
    "\n",
    "Bayes Theorum:\n",
    "\n",
    "$$P(A|B) = \\frac{P(A)P(B|A)}{P(B)}$$"
   ]
  },
  {
   "cell_type": "code",
   "execution_count": 54,
   "id": "b1dc7197",
   "metadata": {},
   "outputs": [
    {
     "data": {
      "text/plain": [
       "0.2239010989010989"
      ]
     },
     "execution_count": 54,
     "metadata": {},
     "output_type": "execute_result"
    }
   ],
   "source": [
    "conditional(liberal, given=banker)"
   ]
  },
  {
   "cell_type": "code",
   "execution_count": 55,
   "id": "79fd3165",
   "metadata": {},
   "outputs": [
    {
     "data": {
      "text/plain": [
       "0.2239010989010989"
      ]
     },
     "execution_count": 55,
     "metadata": {},
     "output_type": "execute_result"
    }
   ],
   "source": [
    "prob(liberal) * conditional(banker, given=liberal) / prob(banker)"
   ]
  },
  {
   "cell_type": "markdown",
   "id": "29d38e76",
   "metadata": {},
   "source": [
    "## Law of Total Probability\n",
    "\n",
    "$$P(A) = P(B_1 and A) + P(B_2 and A)$$\n",
    "\n",
    "- The probability of A is the sum of the two probabilies of $P(B_1 and A) + P(B_2 and A)$ where $B_1$ and $B_2$ are:\n",
    "    - Mutually exclusive, meaning only one of $B_1$ or $B_2$ can be true and\n",
    "    - Collectively exhaustive, meaning that one of them must be true"
   ]
  },
  {
   "cell_type": "code",
   "execution_count": 59,
   "id": "b79a88c4",
   "metadata": {},
   "outputs": [],
   "source": [
    "# At least in this dataset\n",
    "male = ~female"
   ]
  },
  {
   "cell_type": "code",
   "execution_count": 56,
   "id": "a3250414",
   "metadata": {},
   "outputs": [
    {
     "data": {
      "text/plain": [
       "0.014769730168391155"
      ]
     },
     "execution_count": 56,
     "metadata": {},
     "output_type": "execute_result"
    }
   ],
   "source": [
    "prob(banker)"
   ]
  },
  {
   "cell_type": "code",
   "execution_count": 60,
   "id": "57ab867e",
   "metadata": {},
   "outputs": [
    {
     "data": {
      "text/plain": [
       "0.014769730168391155"
      ]
     },
     "execution_count": 60,
     "metadata": {},
     "output_type": "execute_result"
    }
   ],
   "source": [
    "prob(male * banker) + prob(female & banker)"
   ]
  },
  {
   "cell_type": "markdown",
   "id": "8fe2f88b",
   "metadata": {},
   "source": [
    "### When we apply Theorum 2, we can write this as\n",
    "$$P(A) = P(B_1)P(A|B_1) + P(B_2)P(A|B_2)$$"
   ]
  },
  {
   "cell_type": "code",
   "execution_count": 61,
   "id": "39d84582",
   "metadata": {},
   "outputs": [
    {
     "data": {
      "text/plain": [
       "0.014769730168391153"
      ]
     },
     "execution_count": 61,
     "metadata": {},
     "output_type": "execute_result"
    }
   ],
   "source": [
    "(prob(male) * conditional(banker, given=male) +\n",
    "prob(female) * conditional(banker, given=female))"
   ]
  },
  {
   "cell_type": "markdown",
   "id": "f5abdc68",
   "metadata": {},
   "source": [
    "## Total Law of Probability Continued\n",
    "\n",
    "- When there are more than two conditions, it is more concise to write the law of total probability as a summation:\n",
    "\n",
    "$$P(A) = \\sum_i P(B_i) P(A|B_i)$$\n",
    "\n",
    "- Again, this holds as long as the conditions, $B_i$ are mutually exclusive and collectively exhaustive\n"
   ]
  },
  {
   "cell_type": "code",
   "execution_count": 63,
   "id": "b33c1422",
   "metadata": {},
   "outputs": [
    {
     "data": {
      "text/plain": [
       "1.0     1442\n",
       "2.0     5808\n",
       "3.0     6243\n",
       "4.0    18943\n",
       "5.0     7940\n",
       "6.0     7319\n",
       "7.0     1595\n",
       "Name: polviews, dtype: int64"
      ]
     },
     "execution_count": 63,
     "metadata": {},
     "output_type": "execute_result"
    }
   ],
   "source": [
    "B = df['polviews']\n",
    "B.value_counts().sort_index()"
   ]
  },
  {
   "cell_type": "code",
   "execution_count": 65,
   "id": "e2ffabfd",
   "metadata": {},
   "outputs": [
    {
     "data": {
      "text/plain": [
       "0.005822682085615744"
      ]
     },
     "execution_count": 65,
     "metadata": {},
     "output_type": "execute_result"
    }
   ],
   "source": [
    "# On this scale, 4.0 represents “Moderate”. So we can compute the probability of a moderate banker like this:\n",
    "\n",
    "i = 4\n",
    "prob(B==i) * conditional(banker, B==i)"
   ]
  },
  {
   "cell_type": "code",
   "execution_count": 66,
   "id": "fdb1a05a",
   "metadata": {},
   "outputs": [
    {
     "data": {
      "text/plain": [
       "0.014769730168391157"
      ]
     },
     "execution_count": 66,
     "metadata": {},
     "output_type": "execute_result"
    }
   ],
   "source": [
    "# And we can use sum and a generator expression to compute the summation.\n",
    "\n",
    "sum(prob(B==i) * conditional(banker, B==i)\n",
    "    for i in range(1, 8))"
   ]
  },
  {
   "cell_type": "code",
   "execution_count": 69,
   "id": "d96f600a",
   "metadata": {},
   "outputs": [
    {
     "data": {
      "text/plain": [
       "45"
      ]
     },
     "execution_count": 69,
     "metadata": {},
     "output_type": "execute_result"
    }
   ],
   "source": [
    "# generator expression\n",
    "sum(i\n",
    "    for i in range(1, 10))"
   ]
  },
  {
   "cell_type": "markdown",
   "id": "725e05ea",
   "metadata": {},
   "source": [
    "# Summary\n",
    "\n",
    "## Theorum 1\n",
    "\n",
    "Gives us a way to compute a conditional probability using a conjunction\n",
    "\n",
    "$$P(A|B) = \\frac{P(A and B)}{P(B)}$$\n",
    "\n",
    "## Theorum 2\n",
    "\n",
    "Gives us a way to compute a conjunction using a conditional probability:\n",
    " \n",
    "$$P(A and B) = P(B) P(A|B)$$\n",
    "\n",
    "\n",
    "## Theorum 3\n",
    "Also known as Bayes’s Theorem, gives us a way to get from 𝑃(𝐴|𝐵) to 𝑃(𝐵|𝐴), or the other way around:\n",
    "\n",
    "$$P(A|B) = \\frac{P(A)P(B|A)}{P(B)}$$\n",
    "\n",
    "## The Total Law of Probability\n",
    "\n",
    "The Law of Total Probability provides a way to compute probabilities by adding up the pieces:\n",
    "\n",
    "\n",
    "$$P(A) = \\sum_i P(B_i)P(A|B_i)$$\n",
    "\n",
    "At this point you might ask, “So what?” If we have all of the data, we can compute any probability we want, any conjunction, or any conditional probability, just by counting. We don’t have to use these formulas.\n",
    "\n",
    "And you are right, if we have all of the data. But often we don’t, and in that case, these formulas can be pretty useful – especially Bayes’s Theorem. In the next chapter, we’ll see how."
   ]
  },
  {
   "cell_type": "markdown",
   "id": "c0872308",
   "metadata": {},
   "source": [
    "# Exercises\n",
    "\n",
    "> Linda is 31 years old, single, outspoken, and very bright. She majored in philosophy. As a student, she was deeply concerned with issues of discrimination and social justice, and also participated in anti-nuclear demonstrations. Which is more probable?\n",
    "\n",
    "- Linda is a banker.\n",
    "- Linda is a banker and considers herself a liberal Democrat.\n",
    "\n",
    "To answer this question, compute\n",
    "- The probability that Linda is a female banker,\n",
    "- The probability that Linda is a liberal female banker, and\n",
    "- The probability that Linda is a liberal female banker and a Democrat.\n",
    "\n",
    "\n",
    "\n",
    "\n"
   ]
  },
  {
   "cell_type": "code",
   "execution_count": 70,
   "id": "b388d0e4",
   "metadata": {},
   "outputs": [
    {
     "data": {
      "text/plain": [
       "0.011381618989653074"
      ]
     },
     "execution_count": 70,
     "metadata": {},
     "output_type": "execute_result"
    }
   ],
   "source": [
    "# Probability that Linda is a banker\n",
    "prob(banker & female)"
   ]
  },
  {
   "cell_type": "code",
   "execution_count": 73,
   "id": "2fa03d9e",
   "metadata": {},
   "outputs": [
    {
     "data": {
      "text/plain": [
       "0.002556299452221546"
      ]
     },
     "execution_count": 73,
     "metadata": {},
     "output_type": "execute_result"
    }
   ],
   "source": [
    "# The probability that Linda is a liberal female banker\n",
    "prob(banker & female & liberal)"
   ]
  },
  {
   "cell_type": "code",
   "execution_count": 72,
   "id": "7da93514",
   "metadata": {},
   "outputs": [
    {
     "data": {
      "text/plain": [
       "0.0012375735443294787"
      ]
     },
     "execution_count": 72,
     "metadata": {},
     "output_type": "execute_result"
    }
   ],
   "source": [
    "# The probability that Linda is a liberal female banker and a Democrat.\n",
    "prob(banker & female & liberal & democrat)"
   ]
  },
  {
   "cell_type": "markdown",
   "id": "46d82061",
   "metadata": {},
   "source": [
    "## Exercise: Use conditional to compute the following probabilities:\n",
    "\n",
    "What is the probability that a respondent is liberal, given that they are a Democrat?\n",
    "\n",
    "What is the probability that a respondent is a Democrat, given that they are liberal?\n",
    "\n",
    "Think carefully about the order of the arguments you pass to conditional."
   ]
  },
  {
   "cell_type": "code",
   "execution_count": 74,
   "id": "234b196c",
   "metadata": {},
   "outputs": [
    {
     "data": {
      "text/plain": [
       "0.3891320002215698"
      ]
     },
     "execution_count": 74,
     "metadata": {},
     "output_type": "execute_result"
    }
   ],
   "source": [
    "# probability that a respondent is liberal, given that they are a Democrat\n",
    "conditional(liberal, given=democrat)"
   ]
  },
  {
   "cell_type": "code",
   "execution_count": 77,
   "id": "aebae674",
   "metadata": {},
   "outputs": [
    {
     "data": {
      "text/plain": [
       "0.5206403320240125"
      ]
     },
     "execution_count": 77,
     "metadata": {},
     "output_type": "execute_result"
    }
   ],
   "source": [
    "# probability that a respondent is a Democrat, given that they are liberal\n",
    "conditional(democrat, given=liberal)"
   ]
  },
  {
   "cell_type": "markdown",
   "id": "7679f9e9",
   "metadata": {},
   "source": [
    "## Exercise: There’s a famous quote about young people, old people, liberals, and conservatives that goes something like:\n",
    "\n",
    "> If you are not a liberal at 25, you have no heart. If you are not a conservative at 35, you have no brain.\n",
    "\n",
    "Whether you agree with this proposition or not, it suggests some probabilities we can compute as an exercise. Rather than use the specific ages 25 and 35, let’s define young and old as under 30 or over 65:\n",
    "\n"
   ]
  },
  {
   "cell_type": "code",
   "execution_count": 78,
   "id": "2b20eafd",
   "metadata": {},
   "outputs": [
    {
     "data": {
      "text/plain": [
       "0.19435991073240008"
      ]
     },
     "execution_count": 78,
     "metadata": {},
     "output_type": "execute_result"
    }
   ],
   "source": [
    "young = df.age < 30\n",
    "prob(young)"
   ]
  },
  {
   "cell_type": "code",
   "execution_count": 79,
   "id": "b687a51f",
   "metadata": {},
   "outputs": [
    {
     "data": {
      "text/plain": [
       "0.17328058429701765"
      ]
     },
     "execution_count": 79,
     "metadata": {},
     "output_type": "execute_result"
    }
   ],
   "source": [
    "old = df.age >= 65\n",
    "prob(old)"
   ]
  },
  {
   "cell_type": "code",
   "execution_count": 81,
   "id": "a89b4ed4",
   "metadata": {},
   "outputs": [
    {
     "data": {
      "text/plain": [
       "0.3419354838709677"
      ]
     },
     "execution_count": 81,
     "metadata": {},
     "output_type": "execute_result"
    }
   ],
   "source": [
    "# Define conservative as someone whose political views are “Conservative”, “Slightly Conservative”, or “Extremely Conservative”.\n",
    "conservative = (df['polviews'] >= 5)\n",
    "prob(conservative)"
   ]
  },
  {
   "cell_type": "markdown",
   "id": "8e2f4e70",
   "metadata": {},
   "source": [
    "Use prob and conditional to compute the following probabilities.\n",
    "\n",
    "- What is the probability that a randomly chosen respondent is a young liberal?\n",
    "- What is the probability that a young person is liberal?\n",
    "- What fraction of respondents are old conservatives?\n",
    "- What fraction of conservatives are old?\n",
    "\n",
    "For each statement, think about whether it is expressing a conjunction, a conditional probability, or both.\n",
    "\n",
    "For the conditional probabilities, be careful about the order of the arguments. If your answer to the last question is greater than 30%, you have it backwards!"
   ]
  },
  {
   "cell_type": "code",
   "execution_count": 82,
   "id": "870056fa",
   "metadata": {},
   "outputs": [
    {
     "data": {
      "text/plain": [
       "0.06579427875836884"
      ]
     },
     "execution_count": 82,
     "metadata": {},
     "output_type": "execute_result"
    }
   ],
   "source": [
    "prob(young & liberal)"
   ]
  },
  {
   "cell_type": "code",
   "execution_count": 83,
   "id": "fee5ab6d",
   "metadata": {},
   "outputs": [
    {
     "data": {
      "text/plain": [
       "0.338517745302714"
      ]
     },
     "execution_count": 83,
     "metadata": {},
     "output_type": "execute_result"
    }
   ],
   "source": [
    "# Probability that a young person is liberal\n",
    "conditional(liberal, given=young)"
   ]
  },
  {
   "cell_type": "code",
   "execution_count": 85,
   "id": "30033824",
   "metadata": {},
   "outputs": [
    {
     "data": {
      "text/plain": [
       "0.06701156421180766"
      ]
     },
     "execution_count": 85,
     "metadata": {},
     "output_type": "execute_result"
    }
   ],
   "source": [
    "# What fraction of respondents are old conservatives?\n",
    "prob(old & conservative)"
   ]
  },
  {
   "cell_type": "code",
   "execution_count": 86,
   "id": "6379c7e5",
   "metadata": {},
   "outputs": [
    {
     "data": {
      "text/plain": [
       "0.19597721609113564"
      ]
     },
     "execution_count": 86,
     "metadata": {},
     "output_type": "execute_result"
    }
   ],
   "source": [
    "# What fraction of conservatives are old?\n",
    "conditional(old, given=conservative)"
   ]
  },
  {
   "cell_type": "code",
   "execution_count": null,
   "id": "6301b6da",
   "metadata": {},
   "outputs": [],
   "source": []
  }
 ],
 "metadata": {
  "kernelspec": {
   "display_name": "Python 3 (ipykernel)",
   "language": "python",
   "name": "python3"
  },
  "language_info": {
   "codemirror_mode": {
    "name": "ipython",
    "version": 3
   },
   "file_extension": ".py",
   "mimetype": "text/x-python",
   "name": "python",
   "nbconvert_exporter": "python",
   "pygments_lexer": "ipython3",
   "version": "3.9.7"
  }
 },
 "nbformat": 4,
 "nbformat_minor": 5
}
